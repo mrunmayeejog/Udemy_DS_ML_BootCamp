{
 "cells": [
  {
   "cell_type": "markdown",
   "metadata": {},
   "source": [
    "___\n",
    "\n",
    "<a href='http://www.pieriandata.com'> <img src='../../Pierian_Data_Logo.png' /></a>\n",
    "___\n",
    "# Ecommerce Purchases Exercise\n",
    "\n",
    "In this Exercise you will be given some Fake Data about some purchases done through Amazon! Just go ahead and follow the directions and try your best to answer the questions and complete the tasks. Feel free to reference the solutions. Most of the tasks can be solved in different ways. For the most part, the questions get progressively harder.\n",
    "\n",
    "Please excuse anything that doesn't make \"Real-World\" sense in the dataframe, all the data is fake and made-up.\n",
    "\n",
    "Also note that all of these questions can be answered with one line of code.\n",
    "____\n",
    "** Import pandas and read in the Ecommerce Purchases csv file and set it to a DataFrame called ecom. **"
   ]
  },
  {
   "cell_type": "code",
   "execution_count": 1,
   "metadata": {},
   "outputs": [],
   "source": [
    "import pandas as pd"
   ]
  },
  {
   "cell_type": "code",
   "execution_count": 3,
   "metadata": {},
   "outputs": [
    {
     "data": {
      "text/html": [
       "<div>\n",
       "<style scoped>\n",
       "    .dataframe tbody tr th:only-of-type {\n",
       "        vertical-align: middle;\n",
       "    }\n",
       "\n",
       "    .dataframe tbody tr th {\n",
       "        vertical-align: top;\n",
       "    }\n",
       "\n",
       "    .dataframe thead th {\n",
       "        text-align: right;\n",
       "    }\n",
       "</style>\n",
       "<table border=\"1\" class=\"dataframe\">\n",
       "  <thead>\n",
       "    <tr style=\"text-align: right;\">\n",
       "      <th></th>\n",
       "      <th>Address</th>\n",
       "      <th>Lot</th>\n",
       "      <th>AM or PM</th>\n",
       "      <th>Browser Info</th>\n",
       "      <th>Company</th>\n",
       "      <th>Credit Card</th>\n",
       "      <th>CC Exp Date</th>\n",
       "      <th>CC Security Code</th>\n",
       "      <th>CC Provider</th>\n",
       "      <th>Email</th>\n",
       "      <th>Job</th>\n",
       "      <th>IP Address</th>\n",
       "      <th>Language</th>\n",
       "      <th>Purchase Price</th>\n",
       "    </tr>\n",
       "  </thead>\n",
       "  <tbody>\n",
       "    <tr>\n",
       "      <td>0</td>\n",
       "      <td>16629 Pace Camp Apt. 448\\nAlexisborough, NE 77...</td>\n",
       "      <td>46 in</td>\n",
       "      <td>PM</td>\n",
       "      <td>Opera/9.56.(X11; Linux x86_64; sl-SI) Presto/2...</td>\n",
       "      <td>Martinez-Herman</td>\n",
       "      <td>6011929061123406</td>\n",
       "      <td>02/20</td>\n",
       "      <td>900</td>\n",
       "      <td>JCB 16 digit</td>\n",
       "      <td>pdunlap@yahoo.com</td>\n",
       "      <td>Scientist, product/process development</td>\n",
       "      <td>149.146.147.205</td>\n",
       "      <td>el</td>\n",
       "      <td>98.14</td>\n",
       "    </tr>\n",
       "    <tr>\n",
       "      <td>1</td>\n",
       "      <td>9374 Jasmine Spurs Suite 508\\nSouth John, TN 8...</td>\n",
       "      <td>28 rn</td>\n",
       "      <td>PM</td>\n",
       "      <td>Opera/8.93.(Windows 98; Win 9x 4.90; en-US) Pr...</td>\n",
       "      <td>Fletcher, Richards and Whitaker</td>\n",
       "      <td>3337758169645356</td>\n",
       "      <td>11/18</td>\n",
       "      <td>561</td>\n",
       "      <td>Mastercard</td>\n",
       "      <td>anthony41@reed.com</td>\n",
       "      <td>Drilling engineer</td>\n",
       "      <td>15.160.41.51</td>\n",
       "      <td>fr</td>\n",
       "      <td>70.73</td>\n",
       "    </tr>\n",
       "    <tr>\n",
       "      <td>2</td>\n",
       "      <td>Unit 0065 Box 5052\\nDPO AP 27450</td>\n",
       "      <td>94 vE</td>\n",
       "      <td>PM</td>\n",
       "      <td>Mozilla/5.0 (compatible; MSIE 9.0; Windows NT ...</td>\n",
       "      <td>Simpson, Williams and Pham</td>\n",
       "      <td>675957666125</td>\n",
       "      <td>08/19</td>\n",
       "      <td>699</td>\n",
       "      <td>JCB 16 digit</td>\n",
       "      <td>amymiller@morales-harrison.com</td>\n",
       "      <td>Customer service manager</td>\n",
       "      <td>132.207.160.22</td>\n",
       "      <td>de</td>\n",
       "      <td>0.95</td>\n",
       "    </tr>\n",
       "    <tr>\n",
       "      <td>3</td>\n",
       "      <td>7780 Julia Fords\\nNew Stacy, WA 45798</td>\n",
       "      <td>36 vm</td>\n",
       "      <td>PM</td>\n",
       "      <td>Mozilla/5.0 (Macintosh; Intel Mac OS X 10_8_0 ...</td>\n",
       "      <td>Williams, Marshall and Buchanan</td>\n",
       "      <td>6011578504430710</td>\n",
       "      <td>02/24</td>\n",
       "      <td>384</td>\n",
       "      <td>Discover</td>\n",
       "      <td>brent16@olson-robinson.info</td>\n",
       "      <td>Drilling engineer</td>\n",
       "      <td>30.250.74.19</td>\n",
       "      <td>es</td>\n",
       "      <td>78.04</td>\n",
       "    </tr>\n",
       "    <tr>\n",
       "      <td>4</td>\n",
       "      <td>23012 Munoz Drive Suite 337\\nNew Cynthia, TX 5...</td>\n",
       "      <td>20 IE</td>\n",
       "      <td>AM</td>\n",
       "      <td>Opera/9.58.(X11; Linux x86_64; it-IT) Presto/2...</td>\n",
       "      <td>Brown, Watson and Andrews</td>\n",
       "      <td>6011456623207998</td>\n",
       "      <td>10/25</td>\n",
       "      <td>678</td>\n",
       "      <td>Diners Club / Carte Blanche</td>\n",
       "      <td>christopherwright@gmail.com</td>\n",
       "      <td>Fine artist</td>\n",
       "      <td>24.140.33.94</td>\n",
       "      <td>es</td>\n",
       "      <td>77.82</td>\n",
       "    </tr>\n",
       "  </tbody>\n",
       "</table>\n",
       "</div>"
      ],
      "text/plain": [
       "                                             Address    Lot AM or PM  \\\n",
       "0  16629 Pace Camp Apt. 448\\nAlexisborough, NE 77...  46 in       PM   \n",
       "1  9374 Jasmine Spurs Suite 508\\nSouth John, TN 8...  28 rn       PM   \n",
       "2                   Unit 0065 Box 5052\\nDPO AP 27450  94 vE       PM   \n",
       "3              7780 Julia Fords\\nNew Stacy, WA 45798  36 vm       PM   \n",
       "4  23012 Munoz Drive Suite 337\\nNew Cynthia, TX 5...  20 IE       AM   \n",
       "\n",
       "                                        Browser Info  \\\n",
       "0  Opera/9.56.(X11; Linux x86_64; sl-SI) Presto/2...   \n",
       "1  Opera/8.93.(Windows 98; Win 9x 4.90; en-US) Pr...   \n",
       "2  Mozilla/5.0 (compatible; MSIE 9.0; Windows NT ...   \n",
       "3  Mozilla/5.0 (Macintosh; Intel Mac OS X 10_8_0 ...   \n",
       "4  Opera/9.58.(X11; Linux x86_64; it-IT) Presto/2...   \n",
       "\n",
       "                           Company       Credit Card CC Exp Date  \\\n",
       "0                  Martinez-Herman  6011929061123406       02/20   \n",
       "1  Fletcher, Richards and Whitaker  3337758169645356       11/18   \n",
       "2       Simpson, Williams and Pham      675957666125       08/19   \n",
       "3  Williams, Marshall and Buchanan  6011578504430710       02/24   \n",
       "4        Brown, Watson and Andrews  6011456623207998       10/25   \n",
       "\n",
       "   CC Security Code                  CC Provider  \\\n",
       "0               900                 JCB 16 digit   \n",
       "1               561                   Mastercard   \n",
       "2               699                 JCB 16 digit   \n",
       "3               384                     Discover   \n",
       "4               678  Diners Club / Carte Blanche   \n",
       "\n",
       "                            Email                                     Job  \\\n",
       "0               pdunlap@yahoo.com  Scientist, product/process development   \n",
       "1              anthony41@reed.com                       Drilling engineer   \n",
       "2  amymiller@morales-harrison.com                Customer service manager   \n",
       "3     brent16@olson-robinson.info                       Drilling engineer   \n",
       "4     christopherwright@gmail.com                             Fine artist   \n",
       "\n",
       "        IP Address Language  Purchase Price  \n",
       "0  149.146.147.205       el           98.14  \n",
       "1     15.160.41.51       fr           70.73  \n",
       "2   132.207.160.22       de            0.95  \n",
       "3     30.250.74.19       es           78.04  \n",
       "4     24.140.33.94       es           77.82  "
      ]
     },
     "execution_count": 3,
     "metadata": {},
     "output_type": "execute_result"
    }
   ],
   "source": [
    "ecom = pd.read_csv('Ecommerce Purchases')\n",
    "ecom.head()"
   ]
  },
  {
   "cell_type": "markdown",
   "metadata": {},
   "source": [
    "**Check the head of the DataFrame.**"
   ]
  },
  {
   "cell_type": "code",
   "execution_count": 87,
   "metadata": {},
   "outputs": [
    {
     "data": {
      "text/html": [
       "<div>\n",
       "<table border=\"1\" class=\"dataframe\">\n",
       "  <thead>\n",
       "    <tr style=\"text-align: right;\">\n",
       "      <th></th>\n",
       "      <th>Address</th>\n",
       "      <th>Lot</th>\n",
       "      <th>AM or PM</th>\n",
       "      <th>Browser Info</th>\n",
       "      <th>Company</th>\n",
       "      <th>Credit Card</th>\n",
       "      <th>CC Exp Date</th>\n",
       "      <th>CC Security Code</th>\n",
       "      <th>CC Provider</th>\n",
       "      <th>Email</th>\n",
       "      <th>Job</th>\n",
       "      <th>IP Address</th>\n",
       "      <th>Language</th>\n",
       "      <th>Purchase Price</th>\n",
       "    </tr>\n",
       "  </thead>\n",
       "  <tbody>\n",
       "    <tr>\n",
       "      <th>0</th>\n",
       "      <td>16629 Pace Camp Apt. 448\\nAlexisborough, NE 77...</td>\n",
       "      <td>46 in</td>\n",
       "      <td>PM</td>\n",
       "      <td>Opera/9.56.(X11; Linux x86_64; sl-SI) Presto/2...</td>\n",
       "      <td>Martinez-Herman</td>\n",
       "      <td>6011929061123406</td>\n",
       "      <td>02/20</td>\n",
       "      <td>900</td>\n",
       "      <td>JCB 16 digit</td>\n",
       "      <td>pdunlap@yahoo.com</td>\n",
       "      <td>Scientist, product/process development</td>\n",
       "      <td>149.146.147.205</td>\n",
       "      <td>el</td>\n",
       "      <td>98.14</td>\n",
       "    </tr>\n",
       "    <tr>\n",
       "      <th>1</th>\n",
       "      <td>9374 Jasmine Spurs Suite 508\\nSouth John, TN 8...</td>\n",
       "      <td>28 rn</td>\n",
       "      <td>PM</td>\n",
       "      <td>Opera/8.93.(Windows 98; Win 9x 4.90; en-US) Pr...</td>\n",
       "      <td>Fletcher, Richards and Whitaker</td>\n",
       "      <td>3337758169645356</td>\n",
       "      <td>11/18</td>\n",
       "      <td>561</td>\n",
       "      <td>Mastercard</td>\n",
       "      <td>anthony41@reed.com</td>\n",
       "      <td>Drilling engineer</td>\n",
       "      <td>15.160.41.51</td>\n",
       "      <td>fr</td>\n",
       "      <td>70.73</td>\n",
       "    </tr>\n",
       "    <tr>\n",
       "      <th>2</th>\n",
       "      <td>Unit 0065 Box 5052\\nDPO AP 27450</td>\n",
       "      <td>94 vE</td>\n",
       "      <td>PM</td>\n",
       "      <td>Mozilla/5.0 (compatible; MSIE 9.0; Windows NT ...</td>\n",
       "      <td>Simpson, Williams and Pham</td>\n",
       "      <td>675957666125</td>\n",
       "      <td>08/19</td>\n",
       "      <td>699</td>\n",
       "      <td>JCB 16 digit</td>\n",
       "      <td>amymiller@morales-harrison.com</td>\n",
       "      <td>Customer service manager</td>\n",
       "      <td>132.207.160.22</td>\n",
       "      <td>de</td>\n",
       "      <td>0.95</td>\n",
       "    </tr>\n",
       "    <tr>\n",
       "      <th>3</th>\n",
       "      <td>7780 Julia Fords\\nNew Stacy, WA 45798</td>\n",
       "      <td>36 vm</td>\n",
       "      <td>PM</td>\n",
       "      <td>Mozilla/5.0 (Macintosh; Intel Mac OS X 10_8_0 ...</td>\n",
       "      <td>Williams, Marshall and Buchanan</td>\n",
       "      <td>6011578504430710</td>\n",
       "      <td>02/24</td>\n",
       "      <td>384</td>\n",
       "      <td>Discover</td>\n",
       "      <td>brent16@olson-robinson.info</td>\n",
       "      <td>Drilling engineer</td>\n",
       "      <td>30.250.74.19</td>\n",
       "      <td>es</td>\n",
       "      <td>78.04</td>\n",
       "    </tr>\n",
       "    <tr>\n",
       "      <th>4</th>\n",
       "      <td>23012 Munoz Drive Suite 337\\nNew Cynthia, TX 5...</td>\n",
       "      <td>20 IE</td>\n",
       "      <td>AM</td>\n",
       "      <td>Opera/9.58.(X11; Linux x86_64; it-IT) Presto/2...</td>\n",
       "      <td>Brown, Watson and Andrews</td>\n",
       "      <td>6011456623207998</td>\n",
       "      <td>10/25</td>\n",
       "      <td>678</td>\n",
       "      <td>Diners Club / Carte Blanche</td>\n",
       "      <td>christopherwright@gmail.com</td>\n",
       "      <td>Fine artist</td>\n",
       "      <td>24.140.33.94</td>\n",
       "      <td>es</td>\n",
       "      <td>77.82</td>\n",
       "    </tr>\n",
       "  </tbody>\n",
       "</table>\n",
       "</div>"
      ],
      "text/plain": [
       "                                             Address    Lot AM or PM  \\\n",
       "0  16629 Pace Camp Apt. 448\\nAlexisborough, NE 77...  46 in       PM   \n",
       "1  9374 Jasmine Spurs Suite 508\\nSouth John, TN 8...  28 rn       PM   \n",
       "2                   Unit 0065 Box 5052\\nDPO AP 27450  94 vE       PM   \n",
       "3              7780 Julia Fords\\nNew Stacy, WA 45798  36 vm       PM   \n",
       "4  23012 Munoz Drive Suite 337\\nNew Cynthia, TX 5...  20 IE       AM   \n",
       "\n",
       "                                        Browser Info  \\\n",
       "0  Opera/9.56.(X11; Linux x86_64; sl-SI) Presto/2...   \n",
       "1  Opera/8.93.(Windows 98; Win 9x 4.90; en-US) Pr...   \n",
       "2  Mozilla/5.0 (compatible; MSIE 9.0; Windows NT ...   \n",
       "3  Mozilla/5.0 (Macintosh; Intel Mac OS X 10_8_0 ...   \n",
       "4  Opera/9.58.(X11; Linux x86_64; it-IT) Presto/2...   \n",
       "\n",
       "                           Company       Credit Card CC Exp Date  \\\n",
       "0                  Martinez-Herman  6011929061123406       02/20   \n",
       "1  Fletcher, Richards and Whitaker  3337758169645356       11/18   \n",
       "2       Simpson, Williams and Pham      675957666125       08/19   \n",
       "3  Williams, Marshall and Buchanan  6011578504430710       02/24   \n",
       "4        Brown, Watson and Andrews  6011456623207998       10/25   \n",
       "\n",
       "   CC Security Code                  CC Provider  \\\n",
       "0               900                 JCB 16 digit   \n",
       "1               561                   Mastercard   \n",
       "2               699                 JCB 16 digit   \n",
       "3               384                     Discover   \n",
       "4               678  Diners Club / Carte Blanche   \n",
       "\n",
       "                            Email                                     Job  \\\n",
       "0               pdunlap@yahoo.com  Scientist, product/process development   \n",
       "1              anthony41@reed.com                       Drilling engineer   \n",
       "2  amymiller@morales-harrison.com                Customer service manager   \n",
       "3     brent16@olson-robinson.info                       Drilling engineer   \n",
       "4     christopherwright@gmail.com                             Fine artist   \n",
       "\n",
       "        IP Address Language  Purchase Price  \n",
       "0  149.146.147.205       el           98.14  \n",
       "1     15.160.41.51       fr           70.73  \n",
       "2   132.207.160.22       de            0.95  \n",
       "3     30.250.74.19       es           78.04  \n",
       "4     24.140.33.94       es           77.82  "
      ]
     },
     "execution_count": 87,
     "metadata": {},
     "output_type": "execute_result"
    }
   ],
   "source": []
  },
  {
   "cell_type": "markdown",
   "metadata": {},
   "source": [
    "** How many rows and columns are there? **"
   ]
  },
  {
   "cell_type": "code",
   "execution_count": 88,
   "metadata": {},
   "outputs": [
    {
     "name": "stdout",
     "output_type": "stream",
     "text": [
      "<class 'pandas.core.frame.DataFrame'>\n",
      "RangeIndex: 10000 entries, 0 to 9999\n",
      "Data columns (total 14 columns):\n",
      "Address             10000 non-null object\n",
      "Lot                 10000 non-null object\n",
      "AM or PM            10000 non-null object\n",
      "Browser Info        10000 non-null object\n",
      "Company             10000 non-null object\n",
      "Credit Card         10000 non-null int64\n",
      "CC Exp Date         10000 non-null object\n",
      "CC Security Code    10000 non-null int64\n",
      "CC Provider         10000 non-null object\n",
      "Email               10000 non-null object\n",
      "Job                 10000 non-null object\n",
      "IP Address          10000 non-null object\n",
      "Language            10000 non-null object\n",
      "Purchase Price      10000 non-null float64\n",
      "dtypes: float64(1), int64(2), object(11)\n",
      "memory usage: 1.1+ MB\n"
     ]
    }
   ],
   "source": []
  },
  {
   "cell_type": "code",
   "execution_count": 4,
   "metadata": {},
   "outputs": [
    {
     "name": "stdout",
     "output_type": "stream",
     "text": [
      "<class 'pandas.core.frame.DataFrame'>\n",
      "RangeIndex: 10000 entries, 0 to 9999\n",
      "Data columns (total 14 columns):\n",
      "Address             10000 non-null object\n",
      "Lot                 10000 non-null object\n",
      "AM or PM            10000 non-null object\n",
      "Browser Info        10000 non-null object\n",
      "Company             10000 non-null object\n",
      "Credit Card         10000 non-null int64\n",
      "CC Exp Date         10000 non-null object\n",
      "CC Security Code    10000 non-null int64\n",
      "CC Provider         10000 non-null object\n",
      "Email               10000 non-null object\n",
      "Job                 10000 non-null object\n",
      "IP Address          10000 non-null object\n",
      "Language            10000 non-null object\n",
      "Purchase Price      10000 non-null float64\n",
      "dtypes: float64(1), int64(2), object(11)\n",
      "memory usage: 1.1+ MB\n"
     ]
    }
   ],
   "source": [
    "ecom.info()"
   ]
  },
  {
   "cell_type": "markdown",
   "metadata": {},
   "source": [
    "** What is the average Purchase Price? **"
   ]
  },
  {
   "cell_type": "code",
   "execution_count": 5,
   "metadata": {},
   "outputs": [
    {
     "data": {
      "text/plain": [
       "50.34730200000025"
      ]
     },
     "execution_count": 5,
     "metadata": {},
     "output_type": "execute_result"
    }
   ],
   "source": [
    "ecom['Purchase Price'].mean()"
   ]
  },
  {
   "cell_type": "code",
   "execution_count": 90,
   "metadata": {},
   "outputs": [
    {
     "data": {
      "text/plain": [
       "50.34730200000025"
      ]
     },
     "execution_count": 90,
     "metadata": {},
     "output_type": "execute_result"
    }
   ],
   "source": []
  },
  {
   "cell_type": "code",
   "execution_count": 7,
   "metadata": {},
   "outputs": [
    {
     "data": {
      "text/plain": [
       "0.0"
      ]
     },
     "execution_count": 7,
     "metadata": {},
     "output_type": "execute_result"
    }
   ],
   "source": [
    "ecom['Purchase Price'].min() #max()"
   ]
  },
  {
   "cell_type": "markdown",
   "metadata": {},
   "source": [
    "** What were the highest and lowest purchase prices? **"
   ]
  },
  {
   "cell_type": "code",
   "execution_count": 92,
   "metadata": {},
   "outputs": [
    {
     "data": {
      "text/plain": [
       "99.989999999999995"
      ]
     },
     "execution_count": 92,
     "metadata": {},
     "output_type": "execute_result"
    }
   ],
   "source": []
  },
  {
   "cell_type": "code",
   "execution_count": 93,
   "metadata": {},
   "outputs": [
    {
     "data": {
      "text/plain": [
       "0.0"
      ]
     },
     "execution_count": 93,
     "metadata": {},
     "output_type": "execute_result"
    }
   ],
   "source": []
  },
  {
   "cell_type": "code",
   "execution_count": 91,
   "metadata": {},
   "outputs": [
    {
     "data": {
      "text/plain": [
       "Address             1098\n",
       "Lot                 1098\n",
       "AM or PM            1098\n",
       "Browser Info        1098\n",
       "Company             1098\n",
       "Credit Card         1098\n",
       "CC Exp Date         1098\n",
       "CC Security Code    1098\n",
       "CC Provider         1098\n",
       "Email               1098\n",
       "Job                 1098\n",
       "IP Address          1098\n",
       "Language            1098\n",
       "Purchase Price      1098\n",
       "dtype: int64"
      ]
     },
     "execution_count": 91,
     "metadata": {},
     "output_type": "execute_result"
    }
   ],
   "source": [
    "ecom[ecom['Language'] == 'en'].count()"
   ]
  },
  {
   "cell_type": "markdown",
   "metadata": {},
   "source": [
    "** How many people have English 'en' as their Language of choice on the website? **"
   ]
  },
  {
   "cell_type": "code",
   "execution_count": 94,
   "metadata": {},
   "outputs": [
    {
     "data": {
      "text/plain": [
       "Address             1098\n",
       "Lot                 1098\n",
       "AM or PM            1098\n",
       "Browser Info        1098\n",
       "Company             1098\n",
       "Credit Card         1098\n",
       "CC Exp Date         1098\n",
       "CC Security Code    1098\n",
       "CC Provider         1098\n",
       "Email               1098\n",
       "Job                 1098\n",
       "IP Address          1098\n",
       "Language            1098\n",
       "Purchase Price      1098\n",
       "dtype: int64"
      ]
     },
     "execution_count": 94,
     "metadata": {},
     "output_type": "execute_result"
    }
   ],
   "source": []
  },
  {
   "cell_type": "markdown",
   "metadata": {},
   "source": [
    "** How many people have the job title of \"Lawyer\" ? **\n"
   ]
  },
  {
   "cell_type": "code",
   "execution_count": 95,
   "metadata": {},
   "outputs": [
    {
     "name": "stdout",
     "output_type": "stream",
     "text": [
      "<class 'pandas.core.frame.DataFrame'>\n",
      "Int64Index: 30 entries, 470 to 9979\n",
      "Data columns (total 14 columns):\n",
      "Address             30 non-null object\n",
      "Lot                 30 non-null object\n",
      "AM or PM            30 non-null object\n",
      "Browser Info        30 non-null object\n",
      "Company             30 non-null object\n",
      "Credit Card         30 non-null int64\n",
      "CC Exp Date         30 non-null object\n",
      "CC Security Code    30 non-null int64\n",
      "CC Provider         30 non-null object\n",
      "Email               30 non-null object\n",
      "Job                 30 non-null object\n",
      "IP Address          30 non-null object\n",
      "Language            30 non-null object\n",
      "Purchase Price      30 non-null float64\n",
      "dtypes: float64(1), int64(2), object(11)\n",
      "memory usage: 3.5+ KB\n"
     ]
    }
   ],
   "source": []
  },
  {
   "cell_type": "code",
   "execution_count": 93,
   "metadata": {},
   "outputs": [
    {
     "name": "stdout",
     "output_type": "stream",
     "text": [
      "<class 'pandas.core.frame.DataFrame'>\n",
      "Int64Index: 30 entries, 470 to 9979\n",
      "Data columns (total 14 columns):\n",
      "Address             30 non-null object\n",
      "Lot                 30 non-null object\n",
      "AM or PM            30 non-null object\n",
      "Browser Info        30 non-null object\n",
      "Company             30 non-null object\n",
      "Credit Card         30 non-null int64\n",
      "CC Exp Date         30 non-null object\n",
      "CC Security Code    30 non-null int64\n",
      "CC Provider         30 non-null object\n",
      "Email               30 non-null object\n",
      "Job                 30 non-null object\n",
      "IP Address          30 non-null object\n",
      "Language            30 non-null object\n",
      "Purchase Price      30 non-null float64\n",
      "dtypes: float64(1), int64(2), object(11)\n",
      "memory usage: 3.5+ KB\n"
     ]
    }
   ],
   "source": [
    "ecom[ecom['Job'] == \"Lawyer\"].info()"
   ]
  },
  {
   "cell_type": "markdown",
   "metadata": {},
   "source": [
    "** How many people made the purchase during the AM and how many people made the purchase during PM ? **\n",
    "\n",
    "**(Hint: Check out [value_counts()](http://pandas.pydata.org/pandas-docs/stable/generated/pandas.Series.value_counts.html) ) **"
   ]
  },
  {
   "cell_type": "code",
   "execution_count": 97,
   "metadata": {},
   "outputs": [
    {
     "data": {
      "text/plain": [
       "PM    5068\n",
       "AM    4932\n",
       "Name: AM or PM, dtype: int64"
      ]
     },
     "execution_count": 97,
     "metadata": {},
     "output_type": "execute_result"
    }
   ],
   "source": [
    "ecom['AM or PM'].value_counts()\n"
   ]
  },
  {
   "cell_type": "code",
   "execution_count": null,
   "metadata": {},
   "outputs": [],
   "source": []
  },
  {
   "cell_type": "code",
   "execution_count": 42,
   "metadata": {},
   "outputs": [
    {
     "data": {
      "text/plain": [
       "Interior and spatial designer    31\n",
       "Lawyer                           30\n",
       "Social researcher                28\n",
       "Designer, jewellery              27\n",
       "Purchasing manager               27\n",
       "Name: Job, dtype: int64"
      ]
     },
     "execution_count": 42,
     "metadata": {},
     "output_type": "execute_result"
    }
   ],
   "source": [
    "ecom['Job'].value_counts().head(5)"
   ]
  },
  {
   "cell_type": "markdown",
   "metadata": {},
   "source": [
    "** What are the 5 most common Job Titles? **"
   ]
  },
  {
   "cell_type": "code",
   "execution_count": 97,
   "metadata": {},
   "outputs": [
    {
     "data": {
      "text/plain": [
       "Interior and spatial designer    31\n",
       "Lawyer                           30\n",
       "Social researcher                28\n",
       "Purchasing manager               27\n",
       "Designer, jewellery              27\n",
       "Name: Job, dtype: int64"
      ]
     },
     "execution_count": 97,
     "metadata": {},
     "output_type": "execute_result"
    }
   ],
   "source": []
  },
  {
   "cell_type": "markdown",
   "metadata": {},
   "source": [
    "** Someone made a purchase that came from Lot: \"90 WT\" , what was the Purchase Price for this transaction? **"
   ]
  },
  {
   "cell_type": "code",
   "execution_count": 99,
   "metadata": {},
   "outputs": [
    {
     "data": {
      "text/plain": [
       "513    75.1\n",
       "Name: Purchase Price, dtype: float64"
      ]
     },
     "execution_count": 99,
     "metadata": {},
     "output_type": "execute_result"
    }
   ],
   "source": []
  },
  {
   "cell_type": "code",
   "execution_count": 45,
   "metadata": {},
   "outputs": [
    {
     "data": {
      "text/plain": [
       "513    75.1\n",
       "Name: Purchase Price, dtype: float64"
      ]
     },
     "execution_count": 45,
     "metadata": {},
     "output_type": "execute_result"
    }
   ],
   "source": [
    "ecom[ecom['Lot'] == '90 WT']['Purchase Price']"
   ]
  },
  {
   "cell_type": "markdown",
   "metadata": {},
   "source": [
    "** What is the email of the person with the following Credit Card Number: 4926535242672853 **"
   ]
  },
  {
   "cell_type": "code",
   "execution_count": 100,
   "metadata": {},
   "outputs": [
    {
     "data": {
      "text/plain": [
       "1234    bondellen@williams-garza.com\n",
       "Name: Email, dtype: object"
      ]
     },
     "execution_count": 100,
     "metadata": {},
     "output_type": "execute_result"
    }
   ],
   "source": []
  },
  {
   "cell_type": "code",
   "execution_count": 47,
   "metadata": {},
   "outputs": [
    {
     "data": {
      "text/plain": [
       "1234    bondellen@williams-garza.com\n",
       "Name: Email, dtype: object"
      ]
     },
     "execution_count": 47,
     "metadata": {},
     "output_type": "execute_result"
    }
   ],
   "source": [
    "ecom[ecom['Credit Card'] == 4926535242672853]['Email']"
   ]
  },
  {
   "cell_type": "markdown",
   "metadata": {},
   "source": [
    "** How many people have American Express as their Credit Card Provider *and* made a purchase above $95 ?**"
   ]
  },
  {
   "cell_type": "code",
   "execution_count": 101,
   "metadata": {},
   "outputs": [
    {
     "data": {
      "text/plain": [
       "Address             39\n",
       "Lot                 39\n",
       "AM or PM            39\n",
       "Browser Info        39\n",
       "Company             39\n",
       "Credit Card         39\n",
       "CC Exp Date         39\n",
       "CC Security Code    39\n",
       "CC Provider         39\n",
       "Email               39\n",
       "Job                 39\n",
       "IP Address          39\n",
       "Language            39\n",
       "Purchase Price      39\n",
       "dtype: int64"
      ]
     },
     "execution_count": 101,
     "metadata": {},
     "output_type": "execute_result"
    }
   ],
   "source": []
  },
  {
   "cell_type": "code",
   "execution_count": 98,
   "metadata": {},
   "outputs": [
    {
     "data": {
      "text/plain": [
       "Address             39\n",
       "Lot                 39\n",
       "AM or PM            39\n",
       "Browser Info        39\n",
       "Company             39\n",
       "Credit Card         39\n",
       "CC Exp Date         39\n",
       "CC Security Code    39\n",
       "CC Provider         39\n",
       "Email               39\n",
       "Job                 39\n",
       "IP Address          39\n",
       "Language            39\n",
       "Purchase Price      39\n",
       "dtype: int64"
      ]
     },
     "execution_count": 98,
     "metadata": {},
     "output_type": "execute_result"
    }
   ],
   "source": [
    "ap = ecom['CC Provider'] == 'American Express'\n",
    "price = ecom['Purchase Price'] > 95.00\n",
    "ecom[ap & price].count()"
   ]
  },
  {
   "cell_type": "markdown",
   "metadata": {},
   "source": [
    "** Hard: How many people have a credit card that expires in 2025? **"
   ]
  },
  {
   "cell_type": "code",
   "execution_count": 102,
   "metadata": {},
   "outputs": [
    {
     "data": {
      "text/plain": [
       "1033"
      ]
     },
     "execution_count": 102,
     "metadata": {},
     "output_type": "execute_result"
    }
   ],
   "source": []
  },
  {
   "cell_type": "code",
   "execution_count": 100,
   "metadata": {},
   "outputs": [
    {
     "data": {
      "text/plain": [
       "1033"
      ]
     },
     "execution_count": 100,
     "metadata": {},
     "output_type": "execute_result"
    }
   ],
   "source": [
    "'''\n",
    "cc = ecom['CC Exp Date']\n",
    "c = 0\n",
    "for each in cc:\n",
    "    if int(each.split('/')[1]) == 25:\n",
    "        c+=1\n",
    "        \n",
    "c\n",
    "'''\n",
    "sum(ecom['CC Exp Date'].apply(lambda exp: exp[3:] == '25'))\n"
   ]
  },
  {
   "cell_type": "markdown",
   "metadata": {},
   "source": [
    "** Hard: What are the top 5 most popular email providers/hosts (e.g. gmail.com, yahoo.com, etc...) **"
   ]
  },
  {
   "cell_type": "code",
   "execution_count": 105,
   "metadata": {},
   "outputs": [
    {
     "data": {
      "text/plain": [
       "hotmail.com     1638\n",
       "yahoo.com       1616\n",
       "gmail.com       1605\n",
       "smith.com         42\n",
       "williams.com      37\n",
       "Name: Email, dtype: int64"
      ]
     },
     "execution_count": 105,
     "metadata": {},
     "output_type": "execute_result"
    }
   ],
   "source": [
    "ecom['Email'].apply(lambda email: email.split('@')[1]).value_counts().head(5)"
   ]
  },
  {
   "cell_type": "code",
   "execution_count": 90,
   "metadata": {},
   "outputs": [
    {
     "name": "stdout",
     "output_type": "stream",
     "text": [
      "{'yahoo.com': [1616], 'reed.com': [8], 'morales-harrison.com': [1], 'olson-robinson.info': [1], 'gmail.com': [1605], 'parks.info': [1], 'rasmussen.com': [3], 'hunt-huerta.com': [1], 'hotmail.com': [1638], 'coleman.com': [5], 'wilson.com': [11], 'hall.com': [9], 'smith.info': [7], 'gardner-meadows.com': [1], 'mooney.com': [2], 'atkinson.com': [1], 'carey-davis.com': [1], 'mcdowell.com': [2], 'walsh.com': [2], 'frederick.info': [1], 'boyd-english.org': [1], 'wells-carlson.info': [1], 'dickerson.com': [1], 'martinez-thomas.com': [1], 'chambers.com': [2], 'glenn.org': [1], 'allen.com': [8], 'obrien.org': [1], 'cook-castillo.com': [1], 'lawrence-warren.biz': [1], 'morris.com': [3], 'howe.com': [1], 'walton.org': [2], 'jones.biz': [7], 'simmons-gutierrez.org': [1], 'gardner-anderson.com': [1], 'green.com': [7], 'wallace-moore.info': [1], 'wiley.net': [2], 'rodgers-morris.biz': [1], 'johnson.info': [8], 'reyes.com': [5], 'beasley-murphy.net': [1], 'donovan-brown.biz': [1], 'weber-williams.com': [1], 'smith-brown.info': [1], 'fleming.info': [1], 'brown.com': [29], 'harrison-brown.info': [1], 'kim.biz': [2], 'watkins.com': [2], 'thomas.net': [2], 'cochran.com': [1], 'jackson-johnson.biz': [1], 'woods-nunez.biz': [1], 'price.com': [3], 'white.com': [15], 'lowe.net': [1], 'allen-kennedy.org': [1], 'nelson.com': [10], 'long.net': [1], 'cervantes-smith.net': [1], 'silva-cohen.com': [1], 'wilson-wright.biz': [1], 'aguirre.com': [1], 'scott.net': [5], 'henderson-peterson.org': [1], 'james.biz': [1], 'stewart.org': [2], 'martinez.com': [19], 'wright.com': [9], 'lopez.net': [3], 'carlson.net': [1], 'bean-mcdaniel.com': [1], 'bennett.com': [3], 'mosley-brown.com': [1], 'fisher.com': [8], 'guerrero.net': [1], 'cardenas.com': [4], 'smith-conner.org': [1], 'sherman-perry.org': [1], 'matthews.com': [1], 'valenzuela-mccarty.org': [1], 'wagner.com': [6], 'williams.info': [5], 'beck-hickman.com': [1], 'perez-acosta.com': [1], 'dunn.com': [3], 'collier.com': [2], 'hood.com': [1], 'taylor-moore.net': [1], 'sanchez-chambers.net': [1], 'flynn-callahan.com': [1], 'good.com': [2], 'scott.com': [6], 'french-richards.com': [1], 'davenport-zimmerman.com': [1], 'gray.com': [5], 'olson.com': [3], 'shaw.com': [4], 'murray-jones.com': [1], 'cruz.com': [1], 'alexander-villegas.com': [1], 'brown.net': [5], 'delacruz.biz': [1], 'beasley.com': [1], 'griffith.com': [1], 'smith.org': [9], 'green-lee.com': [1], 'bauer.com': [2], 'kane.com': [1], 'mullins-fletcher.com': [1], 'knight.com': [6], 'newman.com': [3], 'bass.com': [2], 'spence-browning.com': [1], 'caldwell-strickland.com': [1], 'bush.org': [1], 'jones-white.com': [1], 'suarez.com': [2], 'elliott.com': [3], 'sanchez.com': [9], 'mitchell-daugherty.com': [1], 'foster.org': [1], 'griffin.com': [3], 'robinson.org': [1], 'smith-bates.com': [1], 'ellis.com': [6], 'murray.com': [2], 'moss.info': [1], 'weaver.com': [2], 'hill-bentley.net': [1], 'rivera-bishop.com': [1], 'west-phillips.info': [1], 'phillips-johnson.org': [1], 'lambert.com': [2], 'reyes.net': [1], 'wade-butler.org': [1], 'henderson.com': [4], 'spence.com': [2], 'powell.net': [2], 'johnson.biz': [6], 'castro.org': [2], 'summers-boyd.com': [1], 'carter.com': [5], 'brooks.net': [2], 'obrien.com': [3], 'espinoza.org': [2], 'hicks.com': [5], 'flynn.info': [1], 'harvey-hunt.com': [1], 'acevedo-pena.biz': [1], 'daniels.com': [1], 'roberts.com': [10], 'davis.com': [25], 'mills.com': [6], 'butler-lozano.com': [1], 'martinez.net': [2], 'carter-adams.biz': [1], 'edwards.com': [9], 'smith-butler.net': [1], 'nguyen.org': [1], 'shaw.net': [1], 'smith.biz': [7], 'lopez.com': [7], 'mccormick-kirby.com': [1], 'sellers.com': [2], 'smith.net': [4], 'hawkins-green.net': [1], 'york-atkins.com': [1], 'garcia.com': [14], 'cardenas.net': [1], 'kerr-wilson.com': [1], 'richardson.com': [8], 'hart.com': [3], 'anthony.com': [2], 'griffin-thomas.com': [1], 'moore.com': [11], 'ross.com': [7], 'lee.net': [5], 'graham.com': [4], 'jackson.com': [14], 'frey-ward.com': [1], 'sanford.com': [1], 'moreno.com': [3], 'carson.net': [1], 'blackburn-lucero.com': [1], 'jackson.net': [1], 'kelley-arnold.com': [1], 'osborne.info': [2], 'valenzuela.com': [3], 'rodriguez.com': [14], 'stevenson-curry.biz': [1], 'davis-mcdonald.com': [1], 'jones.net': [7], 'henry.org': [1], 'pugh.com': [1], 'ballard.com': [3], 'thompson.com': [14], 'bates-wood.biz': [1], 'jordan-pierce.com': [1], 'velasquez.net': [1], 'figueroa.info': [1], 'merritt-york.com': [1], 'johnson-white.biz': [1], 'gonzalez.org': [1], 'miller.com': [14], 'rhodes.com': [2], 'potts-rose.net': [1], 'moore.info': [2], 'barrera.org': [1], 'page.com': [1], 'vaughn.com': [4], 'moore.org': [5], 'martinez-williams.net': [1], 'mcclure.biz': [1], 'carr.com': [2], 'gonzalez.com': [8], 'williams.com': [37], 'thomas.biz': [4], 'andrews.com': [4], 'herrera-miller.biz': [1], 'allen.org': [2], 'thomas.com': [14], 'fuller-johnson.com': [1], 'robinson.com': [5], 'armstrong.biz': [1], 'rodriguez-hernandez.com': [1], 'foster.net': [3], 'dalton.net': [1], 'castro-whitaker.net': [1], 'hill.biz': [1], 'stein-cox.com': [1], 'vargas-brown.com': [1], 'melton-duke.com': [1], 'moran.com': [2], 'guzman-davis.com': [1], 'gonzalez.net': [1], 'cox.com': [5], 'sanders.org': [2], 'jensen.info': [1], 'meyer-palmer.org': [1], 'kramer.com': [1], 'peters-green.com': [1], 'perez.info': [2], 'berry-davis.com': [1], 'johnson.com': [29], 'murray.info': [1], 'lindsey.net': [1], 'roberts.net': [1], 'smith-ford.biz': [1], 'fritz.com': [1], 'clark-simpson.com': [1], 'patton.com': [4], 'oconnor-dixon.com': [1], 'murray.net': [2], 'moore-robinson.com': [1], 'moore-lutz.com': [1], 'deleon-ortega.org': [1], 'page.net': [1], 'livingston.com': [3], 'wright.net': [3], 'schwartz.info': [2], 'cook.com': [9], 'richardson-flores.com': [1], 'brown-bean.com': [1], 'wilkinson.com': [3], 'richardson.biz': [2], 'figueroa-jones.com': [1], 'choi-morris.com': [1], 'lee.com': [10], 'torres.biz': [5], 'owen-gross.com': [1], 'deleon.com': [1], 'clark.com': [6], 'baker.com': [6], 'smith-nunez.info': [1], 'tyler.com': [4], 'aguilar-nelson.com': [1], 'holder.com': [1], 'livingston-smith.biz': [1], 'smith-reid.com': [1], 'hurst.com': [2], 'smith-collins.biz': [1], 'tran-mccoy.org': [1], 'mclaughlin.com': [2], 'barnes.com': [4], 'browning.com': [1], 'palmer-mckee.com': [1], 'johnson-oliver.net': [1], 'carpenter.info': [1], 'brown-wilson.net': [1], 'martinez-malone.com': [1], 'chung.com': [2], 'alvarez.com': [2], 'perez.com': [7], 'jones.com': [25], 'aguilar.com': [3], 'garrison-woodard.com': [1], 'adams.com': [6], 'reid.com': [4], 'meza-jackson.org': [1], 'curtis.com': [2], 'marquez-castillo.biz': [1], 'rangel.net': [1], 'lewis-brown.net': [1], 'copeland.org': [1], 'fritz-gray.com': [1], 'carson.com': [6], 'haynes.com': [1], 'stafford.com': [1], 'cruz.biz': [1], 'ballard-myers.info': [1], 'hernandez-nielsen.com': [1], 'russell.com': [5], 'hughes.com': [6], 'martin-chavez.com': [1], 'smith.com': [42], 'terrell.biz': [1], 'steele.net': [1], 'rose.info': [1], 'long.com': [10], 'short.biz': [1], 'roach.com': [3], 'vaughn-sullivan.biz': [1], 'dean.com': [2], 'walker-morales.com': [1], 'malone.com': [1], 'fernandez.com': [6], 'jackson-pitts.com': [1], 'morris.biz': [1], 'anderson-duke.com': [1], 'hernandez.biz': [1], 'harris.com': [12], 'murphy.org': [1], 'richards.org': [1], 'gonzales-anderson.com': [1], 'davenport-garcia.com': [1], 'hull.info': [1], 'atkins.biz': [1], 'martin.com': [15], 'nguyen-smith.net': [1], 'bailey.net': [1], 'black.org': [1], 'sanford-lopez.com': [1], 'kelly.biz': [1], 'garcia-pugh.biz': [1], 'anderson-werner.biz': [1], 'browning-yu.com': [1], 'lopez-kelly.com': [1], 'fernandez-bell.com': [1], 'campbell.info': [1], 'manning.org': [1], 'rollins.com': [1], 'johnson-long.biz': [1], 'flynn-williams.com': [1], 'winters.info': [1], 'graham-green.net': [1], 'ballard.net': [1], 'meyer.com': [1], 'hart-reynolds.com': [1], 'jimenez.biz': [2], 'turner-hall.net': [1], 'haynes-pollard.info': [1], 'clay.net': [2], 'foster-travis.biz': [1], 'price.org': [2], 'chen-cantu.net': [1], 'santana.com': [3], 'long.org': [2], 'beard-franco.com': [1], 'marshall-johnson.net': [1], 'sherman.com': [2], 'boone-barton.com': [1], 'velez.com': [1], 'johnson-grant.net': [1], 'gomez.info': [1], 'hopkins.biz': [1], 'silva.com': [3], 'thomas.org': [3], 'armstrong-adkins.biz': [1], 'ritter.com': [4], 'holmes-jones.com': [1], 'walter.com': [2], 'rodriguez.biz': [3], 'sellers-perez.net': [1], 'reese-mcintosh.com': [1], 'jackson.org': [5], 'medina-reyes.net': [1], 'duncan-garcia.com': [1], 'webster.com': [3], 'myers.com': [5], 'gray-mejia.com': [1], 'clark-garcia.org': [1], 'wright-walton.com': [1], 'smith-harrison.com': [1], 'martin.info': [4], 'johnson-schmidt.com': [1], 'hall-stephens.net': [1], 'mora.info': [1], 'jones-morgan.org': [1], 'robbins-mcdonald.com': [1], 'knight.biz': [2], 'simmons-rasmussen.com': [1], 'molina.org': [1], 'anderson-thompson.com': [1], 'taylor.org': [2], 'carroll.com': [3], 'logan.net': [1], 'best.com': [1], 'gill-flores.com': [1], 'guerrero.com': [4], 'gardner.com': [1], 'reed-gonzalez.com': [1], 'williams.biz': [9], 'pearson.com': [2], 'luna-hancock.info': [1], 'little-branch.info': [1], 'murphy-berry.com': [1], 'marshall.com': [2], 'rivas-glover.com': [1], 'sloan.com': [1], 'rivera.org': [3], 'moore-martinez.biz': [1], 'morrison-smith.com': [1], 'torres.com': [4], 'caldwell.net': [2], 'summers.info': [1], 'rios.com': [2], 'gross.com': [2], 'weber.org': [1], 'andrews.biz': [1], 'johnson-dean.com': [1], 'galloway.com': [1], 'coleman-williams.net': [1], 'rodriguez.org': [4], 'stein-hayes.com': [1], 'hahn-roberts.com': [1], 'green.org': [3], 'hernandez-finley.net': [1], 'dunlap.net': [1], 'butler-thompson.net': [1], 'stone.com': [5], 'melendez-decker.net': [1], 'knapp.info': [1], 'gonzalez.info': [5], 'guerrero.info': [1], 'burton.com': [2], 'underwood-jenkins.org': [1], 'anderson.net': [2], 'berry.com': [5], 'rodriguez-yang.com': [1], 'payne-bell.info': [1], 'guerrero-shah.com': [1], 'riley.com': [3], 'gonzalez-gamble.org': [1], 'craig.com': [2], 'lee.org': [1], 'haynes-nguyen.com': [1], 'parker.com': [5], 'reeves-cole.biz': [1], 'anderson-fleming.biz': [1], 'myers.biz': [2], 'henderson.net': [4], 'goodwin.com': [2], 'bass-sullivan.info': [1], 'whitney.org': [1], 'brooks.com': [5], 'miller.info': [6], 'stone.net': [2], 'silva-cox.com': [1], 'hill.net': [2], 'dorsey.org': [1], 'velazquez.com': [1], 'cox-cole.com': [1], 'duarte.com': [1], 'king-blanchard.com': [1], 'stewart-morrison.com': [1], 'donaldson.org': [1], 'whitehead-morales.com': [1], 'johnson-benitez.net': [1], 'curtis-holland.com': [1], 'arnold.info': [1], 'cortez.com': [1], 'johnson-maxwell.biz': [1], 'castillo.biz': [1], 'wood-le.org': [1], 'campbell-chang.com': [1], 'reid.net': [2], 'bridges-nguyen.com': [1], 'chavez.biz': [1], 'johnston-garcia.com': [1], 'mckenzie-jones.com': [1], 'miller-bond.com': [1], 'floyd.com': [2], 'vargas.info': [1], 'white-beck.com': [1], 'davenport-harris.com': [1], 'hurley.biz': [1], 'kennedy.com': [5], 'gutierrez.biz': [1], 'andrade.com': [2], 'michael.com': [2], 'french.com': [2], 'smith-ross.com': [1], 'hansen.info': [2], 'humphrey.com': [1], 'hendrix-reed.com': [1], 'jones-james.info': [1], 'munoz.org': [1], 'gutierrez-casey.com': [1], 'mitchell.net': [2], 'mejia.com': [2], 'castro.info': [3], 'smith-harrell.com': [1], 'harper.com': [2], 'love.com': [3], 'hopkins.com': [2], 'johnson-huang.com': [1], 'santos.com': [3], 'ruiz.com': [2], 'lane.net': [2], 'rodgers-colon.com': [1], 'oneill.com': [4], 'wilson-walker.com': [1], 'stewart.com': [7], 'ross-perez.com': [1], 'rocha.net': [1], 'rivera-farley.com': [1], 'lynch-gonzalez.com': [1], 'stark.org': [1], 'randolph.com': [1], 'vincent-perry.com': [1], 'ryan.com': [3], 'lewis.info': [3], 'jones-robinson.com': [1], 'wood.com': [6], 'cobb-chandler.org': [1], 'adams.org': [4], 'holmes.com': [3], 'bailey-green.com': [1], 'hancock.org': [1], 'pennington.com': [1], 'webb.com': [5], 'carey-brown.com': [1], 'wallace-roberts.info': [1], 'henderson.org': [1], 'smith-robinson.com': [1], 'peterson.org': [1], 'klein.org': [3], 'hooper.com': [1], 'sanders-wilson.com': [1], 'woodward.info': [2], 'cooley-hatfield.com': [1], 'clark.biz': [2], 'zavala.com': [1], 'schmidt-martin.com': [1], 'park-soto.com': [1], 'lin.com': [2], 'collins.com': [4], 'collins.biz': [1], 'pierce.com': [2], 'harrington-smith.com': [1], 'rivera.com': [4], 'franco-green.com': [1], 'bennett-smith.com': [1], 'hayden.net': [1], 'alexander-hall.net': [1], 'kelly.com': [5], 'white.org': [1], 'reeves.com': [1], 'walker-wiley.info': [1], 'williams-garza.com': [1], 'martinez-brooks.org': [1], 'mason.com': [4], 'garcia.org': [6], 'cruz-brown.org': [1], 'hughes.net': [1], 'king.biz': [2], 'blair.com': [2], 'barnett-smith.com': [1], 'stevens.biz': [1], 'banks-moore.com': [1], 'huff.net': [1], 'west.com': [7], 'taylor.com': [12], 'delgado.com': [3], 'ferguson.com': [4], 'ford.biz': [1], 'rodriguez-avila.com': [1], 'perkins.info': [1], 'alvarez.info': [1], 'ramirez.net': [2], 'andersen.com': [3], 'contreras.com': [2], 'freeman.info': [1], 'phillips-martinez.com': [1], 'herrera.biz': [1], 'long-johnson.info': [1], 'mendez.biz': [1], 'adams.net': [1], 'davis.info': [3], 'burton.net': [1], 'parks.net': [1], 'bean.biz': [1], 'sloan-macdonald.com': [1], 'padilla.biz': [1], 'harris-reid.org': [1], 'moore-alvarado.info': [1], 'larsen-jacobs.com': [1], 'pruitt.com': [2], 'santana.net': [1], 'stephens-ruiz.biz': [1], 'harris.org': [3], 'mccarthy.com': [2], 'crane.org': [1], 'robles.com': [1], 'fitzgerald.com': [2], 'anderson.com': [10], 'fisher.org': [2], 'nguyen.net': [1], 'grimes.com': [2], 'smith-allen.org': [1], 'porter.com': [3], 'salinas-johnston.com': [1], 'braun.biz': [1], 'rice-alvarado.biz': [1], 'thornton.com': [2], 'soto.com': [3], 'harmon-rodriguez.com': [1], 'mosley-dominguez.net': [1], 'sullivan.com': [7], 'brown.info': [5], 'hamilton.com': [5], 'mendez-macdonald.biz': [1], 'martinez-delgado.info': [1], 'stanley.biz': [2], 'morgan.info': [1], 'cole-may.com': [1], 'daugherty.com': [2], 'roy.com': [1], 'flores.com': [3], 'ellis-gonzalez.com': [1], 'gomez.com': [3], 'wall.com': [1], 'levy.com': [1], 'montgomery.info': [1], 'simmons.com': [5], 'landry.com': [1], 'yates.com': [2], 'knight-johnson.com': [1], 'hill.com': [13], 'sanders.com': [2], 'ingram.com': [1], 'rivera.net': [1], 'christensen-cummings.com': [1], 'weiss.com': [3], 'frey-howell.net': [1], 'shelton-luna.net': [1], 'clarke.org': [1], 'taylor.biz': [5], 'herrera-george.info': [1], 'white-raymond.net': [1], 'ali.com': [1], 'curtis-bernard.com': [1], 'gonzales.com': [8], 'scott.info': [3], 'orozco-nunez.com': [1], 'bauer-garrett.net': [1], 'hooper-simpson.net': [1], 'english-lewis.com': [1], 'holloway.com': [4], 'gillespie-acevedo.info': [1], 'farley.biz': [1], 'rogers.info': [2], 'ramirez-hodge.info': [1], 'morris-holloway.org': [1], 'gould.org': [1], 'galvan.com': [1], 'shelton.com': [4], 'stephens-thompson.com': [1], 'barry.com': [1], 'mendez-doyle.com': [1], 'underwood.com': [1], 'andrade-williams.com': [1], 'nguyen-sanchez.net': [1], 'matthews-nguyen.info': [1], 'todd.info': [1], 'hutchinson.com': [1], 'newton.net': [1], 'berry.info': [1], 'ray-smith.net': [1], 'swanson.info': [1], 'diaz-rodgers.net': [1], 'sherman-calhoun.com': [1], 'young-cole.com': [1], 'dominguez.org': [3], 'guzman-russo.org': [1], 'hardy-thomas.com': [1], 'miller.net': [4], 'morales-horne.com': [1], 'valenzuela-mccormick.biz': [1], 'thomas-peck.com': [1], 'cole.com': [1], 'jones-robinson.org': [1], 'meyer-patterson.com': [1], 'hinton-smith.info': [1], 'butler.com': [6], 'avila.com': [2], 'sparks.com': [1], 'schmitt.biz': [1], 'castro.com': [4], 'bonilla.com': [3], 'conley-ward.com': [1], 'turner.org': [1], 'cooper.com': [7], 'brown-brown.com': [1], 'vazquez.com': [1], 'benjamin.com': [2], 'archer-quinn.com': [1], 'ewing.com': [1], 'fuller.biz': [1], 'haley-gibson.com': [1], 'butler.info': [1], 'hill-garcia.info': [1], 'martinez-bass.com': [1], 'johnson-collier.net': [1], 'bush-contreras.com': [1], 'vega.com': [1], 'wiggins-tucker.com': [1], 'simmons-gilbert.com': [1], 'peterson-may.com': [1], 'henry.com': [5], 'moody.com': [1], 'taylor-ramirez.com': [1], 'hawkins-ford.org': [1], 'fox-lowe.com': [1], 'williams.org': [2], 'hawkins-smith.biz': [1], 'mccoy.com': [4], 'luna.org': [2], 'james.com': [4], 'dunn-lara.com': [1], 'brown.org': [5], 'morrison-sullivan.com': [1], 'jenkins.net': [4], 'stephenson.info': [1], 'green-nunez.com': [1], 'meyer-lowery.com': [1], 'peterson-watkins.org': [1], 'chandler.com': [4], 'wells-choi.com': [1], 'taylor.net': [1], 'johnson-blanchard.com': [1], 'evans.com': [6], 'williamson.org': [1], 'johnson-marks.com': [1], 'torres.net': [1], 'mendez-davidson.com': [1], 'alexander.com': [5], 'hanson.com': [2], 'dorsey.com': [1], 'velez-kennedy.com': [1], 'cooper.info': [2], 'carpenter.org': [1], 'guzman.com': [3], 'alexander-gibson.org': [1], 'sandoval.net': [1], 'schmitt.com': [3], 'olsen.com': [4], 'guerrero-franco.com': [1], 'mcclure.com': [1], 'holden-stevens.com': [1], 'warren.com': [4], 'martin-davis.com': [1], 'lambert.org': [1], 'mata.com': [1], 'compton.org': [1], 'foster.com': [5], 'smith-johnson.com': [1], 'bowen.com': [2], 'kerr.org': [1], 'peterson.com': [3], 'bates-david.net': [1], 'howell.net': [2], 'wong.org': [1], 'dougherty-powell.com': [1], 'garrett-adams.com': [1], 'oliver-stein.com': [1], 'roberts.biz': [1], 'ellison.com': [2], 'gutierrez-abbott.com': [1], 'rodriguez-roberts.biz': [1], 'moore-walker.com': [1], 'hoffman-cantu.com': [1], 'arnold-bell.org': [1], 'hall.org': [1], 'schmidt.org': [1], 'macdonald.com': [1], 'ramirez.com': [6], 'nelson-snyder.com': [1], 'gomez-rowland.com': [1], 'floyd-lopez.biz': [1], 'leonard.com': [2], 'sanchez-cook.com': [1], 'olson.biz': [1], 'boyd.com': [3], 'crosby.info': [1], 'james.org': [2], 'holder.net': [1], 'rodriguez-johnson.com': [1], 'becker.com': [1], 'hernandez.info': [5], 'thomas-warren.com': [1], 'robbins.org': [1], 'james.info': [4], 'hayes.biz': [2], 'ho.com': [2], 'stuart.com': [3], 'hopkins.org': [1], 'barker.com': [1], 'vasquez.com': [4], 'flowers.com': [1], 'martinez-bell.org': [1], 'butler-evans.com': [1], 'hill-maynard.com': [1], 'walker.com': [11], 'burns-lawrence.net': [1], 'may-novak.org': [1], 'brown-frye.org': [1], 'bullock-lopez.com': [1], 'fowler-smith.biz': [1], 'lewis.com': [9], 'berry-mendez.com': [1], 'avery-smith.com': [1], 'campbell.net': [2], 'archer.com': [2], 'webster-pearson.info': [1], 'king.com': [10], 'garcia.net': [4], 'wallace.org': [1], 'payne.info': [2], 'walker-pacheco.biz': [1], 'bailey.biz': [2], 'hansen.org': [1], 'hampton-moore.com': [1], 'le.org': [1], 'thomas-wagner.com': [1], 'watson-carter.com': [1], 'mason-macdonald.biz': [1], 'burgess.com': [4], 'mclean.com': [1], 'wood.biz': [2], 'tucker.com': [4], 'franklin.com': [4], 'cowan.net': [1], 'santiago.com': [4], 'nguyen-evans.com': [1], 'scott-durham.net': [1], 'chavez.com': [1], 'jarvis.biz': [1], 'drake-alexander.com': [1], 'beck.com': [1], 'hudson.com': [5], 'munoz-simmons.com': [1], 'martinez.info': [2], 'schneider.com': [4], 'romero.com': [2], 'gonzalez.biz': [2], 'flynn.com': [2], 'turner.info': [1], 'kirby.info': [1], 'mcgrath-potts.biz': [1], 'martinez-montoya.com': [1], 'rivas.com': [1], 'kramer-lopez.info': [1], 'howard.com': [5], 'hill.org': [1], 'roberson-jenkins.info': [1], 'ramirez-johnson.org': [1], 'nelson.info': [3], 'jacobs.com': [2], 'pruitt.info': [1], 'kerr-rhodes.net': [1], 'cabrera.com': [2], 'sanders.biz': [1], 'lawrence.com': [3], 'taylor-anderson.net': [1], 'gutierrez.org': [1], 'morales.biz': [3], 'brown-garrison.com': [1], 'duncan.net': [1], 'yates.net': [1], 'christensen-gonzalez.biz': [1], 'huffman.info': [1], 'little.biz': [1], 'wallace-hicks.com': [1], 'wolf-gardner.org': [1], 'bond-fields.info': [1], 'mcdaniel-hendricks.com': [1], 'reese.com': [1], 'dunn-flowers.com': [1], 'park.com': [1], 'lutz.org': [1], 'anderson-nelson.net': [1], 'walter.info': [1], 'hernandez.com': [10], 'powell.org': [1], 'bailey.com': [6], 'mann-patel.biz': [1], 'snyder-mercer.info': [1], 'potter-escobar.com': [1], 'nguyen.com': [4], 'kim-church.com': [1], 'lawson.com': [2], 'russo.com': [1], 'morris-jones.biz': [1], 'rodriguez.info': [6], 'morse.net': [1], 'wong-richardson.com': [1], 'wang-oneal.net': [1], 'pierce-johnston.com': [1], 'tran.com': [1], 'rubio-ward.com': [1], 'higgins.net': [1], 'lloyd.com': [2], 'moore.net': [3], 'castillo-robertson.com': [1], 'richards.com': [3], 'stewart.biz': [1], 'fernandez-dickson.com': [1], 'dennis.biz': [1], 'franco-arnold.net': [1], 'grant-cooper.com': [1], 'ramirez-flynn.com': [1], 'taylor-robinson.net': [1], 'cantu.com': [2], 'marsh.info': [1], 'reyes.info': [1], 'gallagher-mcdaniel.biz': [1], 'jones-hensley.com': [1], 'bryant.net': [1], 'jones.info': [3], 'weeks.com': [1], 'blevins-acevedo.com': [1], 'smith-myers.com': [1], 'wang.com': [2], 'mosley-buchanan.com': [1], 'gonzales.info': [1], 'roberts-zavala.net': [1], 'welch.com': [5], 'chapman-rhodes.com': [1], 'holt.com': [1], 'mendoza.org': [1], 'vincent-flynn.com': [1], 'george.biz': [1], 'ramirez-gonzales.biz': [1], 'chavez-perkins.com': [1], 'mills.biz': [1], 'horn.net': [1], 'vazquez-freeman.com': [1], 'mendoza-leonard.com': [1], 'trujillo.org': [1], 'harris-cooper.com': [1], 'rogers.com': [3], 'king-kirby.net': [1], 'oneal.com': [2], 'reynolds.com': [5], 'rogers-hayes.info': [1], 'ochoa-williams.info': [1], 'randall.com': [4], 'duncan.com': [5], 'kaiser-garcia.com': [1], 'white-marsh.com': [1], 'hancock-harris.info': [1], 'krause.com': [2], 'shaffer.com': [1], 'blair-burton.net': [1], 'bishop.org': [1], 'burns.com': [5], 'flores.biz': [3], 'hernandez-summers.net': [1], 'hicks.info': [1], 'herman.org': [1], 'phillips.net': [2], 'jackson-fry.com': [1], 'brown.biz': [4], 'callahan.com': [2], 'potter.com': [2], 'lee-cameron.com': [1], 'nelson-wright.com': [1], 'roberts-rodriguez.com': [1], 'grimes-gross.com': [1], 'riddle-smith.com': [1], 'harrington.com': [1], 'cohen.org': [1], 'vargas-vasquez.com': [1], 'taylor-mercado.com': [1], 'kaiser.net': [1], 'hicks.org': [1], 'sanders-powell.com': [1], 'hayes-anderson.com': [1], 'duncan-sparks.org': [1], 'oliver.org': [2], 'johnson-collins.com': [1], 'robinson.net': [1], 'fields.com': [3], 'jones-white.biz': [1], 'williams-shah.biz': [1], 'duffy.com': [1], 'white-alexander.com': [1], 'gould-petty.com': [1], 'lara.biz': [2], 'sanders-castillo.com': [1], 'sullivan.info': [1], 'taylor-gregory.com': [1], 'peterson.biz': [2], 'weber-keller.com': [1], 'schmidt.com': [3], 'hunt.biz': [1], 'day.com': [1], 'henderson-collins.com': [1], 'nichols-wagner.net': [1], 'levine.info': [1], 'nielsen-scott.net': [1], 'tucker.org': [1], 'woods.com': [7], 'grant.biz': [2], 'burgess.biz': [1], 'golden.biz': [1], 'dillon-bender.com': [1], 'poole-everett.com': [1], 'brooks.info': [1], 'wilson-garcia.info': [1], 'watson.com': [6], 'campbell.com': [3], 'rose.biz': [1], 'hawkins.com': [3], 'day-gallegos.com': [1], 'kelly.info': [2], 'jackson-irwin.com': [1], 'montgomery.biz': [1], 'soto-ramirez.com': [1], 'carson-kennedy.com': [1], 'lucas-smith.com': [1], 'hill-powell.net': [1], 'cobb.com': [1], 'ho.info': [1], 'petersen-galvan.com': [1], 'banks.org': [1], 'parker.net': [4], 'martinez-davis.org': [1], 'fitzgerald.info': [1], 'evans.biz': [1], 'wright.org': [2], 'gutierrez.info': [1], 'manning.com': [1], 'banks.info': [1], 'walker.info': [1], 'smith-moore.org': [1], 'pace.com': [2], 'tate.info': [1], 'roy.net': [1], 'lewis.net': [1], 'oconnor-miller.com': [1], 'casey.com': [1], 'smith-hartman.biz': [1], 'merritt.info': [2], 'howe.biz': [1], 'bowman.com': [2], 'cunningham-campbell.net': [1], 'davis-gordon.com': [1], 'edwards.info': [1], 'brown-johnson.com': [1], 'mcdowell.net': [1], 'bryan.com': [1], 'martinez.biz': [4], 'todd.org': [1], 'marshall.biz': [3], 'davis-stevens.com': [1], 'jordan.com': [7], 'gordon.com': [2], 'barnes.org': [1], 'baker-shelton.org': [1], 'wallace.com': [3], 'phillips-gray.com': [1], 'freeman.com': [3], 'morris-young.org': [1], 'rose-gilbert.com': [1], 'bradshaw.com': [1], 'maddox.com': [2], 'schneider.net': [2], 'phillips.com': [7], 'ortiz.info': [1], 'ford-perry.com': [1], 'charles.com': [1], 'davis.biz': [3], 'campbell-berry.net': [1], 'douglas-richardson.com': [1], 'frank.com': [4], 'gibson.com': [5], 'robinson-fuller.net': [1], 'mann-vazquez.com': [1], 'olson.net': [1], 'torres-clay.com': [1], 'lane.org': [1], 'kramer-jones.com': [1], 'alvarez-dixon.info': [1], 'turner.com': [9], 'brown-caldwell.com': [1], 'bush.com': [4], 'turner-jones.com': [1], 'merritt-morton.biz': [1], 'davis.net': [5], 'jenkins.com': [4], 'perry-mcgee.com': [1], 'burgess-sharp.com': [1], 'bates.com': [1], 'figueroa.com': [3], 'snyder-ashley.biz': [1], 'hamilton-herman.org': [1], 'guzman.info': [1], 'mclaughlin.org': [1], 'chaney-allen.com': [1], 'johnson-moore.com': [1], 'cox.org': [1], 'wilson.biz': [2], 'boyle-jordan.info': [1], 'anderson-avila.info': [1], 'phelps.com': [1], 'mccall.biz': [1], 'chapman.com': [2], 'carson-burke.com': [1], 'evans.net': [2], 'murphy-williams.net': [1], 'hughes.info': [2], 'arroyo.org': [1], 'burke-gray.net': [1], 'curry-medina.com': [1], 'stevens.com': [6], 'palmer.com': [2], 'brown-castillo.info': [1], 'boyd.org': [1], 'haynes-bailey.info': [1], 'garza-brown.com': [1], 'lowe-baxter.com': [1], 'greer.com': [4], 'simpson-roach.com': [1], 'callahan.info': [1], 'vargas-trujillo.com': [1], 'montgomery.net': [1], 'myers-smith.com': [1], 'norris-miller.com': [1], 'cobb-bell.info': [1], 'hopkins.info': [1], 'mcdonald-webster.biz': [1], 'barron.net': [1], 'martinez.org': [1], 'baker.info': [1], 'smith-mcdonald.info': [1], 'maddox-kelley.com': [1], 'jenkins.biz': [1], 'cole.net': [1], 'wade-daniels.com': [1], 'miller-frank.com': [1], 'sutton.org': [1], 'dodson.com': [3], 'harris-hudson.com': [1], 'doyle-wells.com': [1], 'anderson-robinson.com': [1], 'zimmerman-clark.com': [1], 'murphy-martin.info': [1], 'thompson-allen.com': [1], 'dominguez.com': [4], 'richards.biz': [2], 'mccullough.com': [3], 'peck.com': [1], 'blackburn-green.com': [1], 'lewis.org': [2], 'nelson-rios.com': [1], 'payne-evans.net': [1], 'maynard.com': [1], 'wallace-ingram.com': [1], 'kelly.net': [1], 'everett.com': [1], 'cunningham.info': [1], 'floyd.info': [1], 'parker-woods.info': [1], 'pacheco-carey.info': [1], 'scott-collins.info': [1], 'pollard.com': [1], 'brown-willis.org': [1], 'graves.info': [1], 'gibbs.com': [1], 'shea-reid.com': [1], 'flynn.net': [1], 'banks.net': [1], 'bryant.biz': [1], 'bell-stewart.com': [1], 'humphrey.org': [1], 'flores-ruiz.com': [1], 'hart-alvarez.com': [1], 'payne.com': [4], 'francis.com': [2], 'cohen-barnett.com': [1], 'jones.org': [5], 'mcintosh-hernandez.info': [1], 'wise.com': [1], 'sheppard.com': [1], 'carlson.com': [7], 'patrick.biz': [1], 'mcdonald-flynn.info': [1], 'hoover.com': [2], 'young.com': [9], 'mcdonald-carter.com': [1], 'porter-randolph.info': [1], 'solomon.com': [2], 'rogers.net': [1], 'york-castillo.com': [1], 'johnson-moreno.com': [1], 'schroeder-lawson.org': [1], 'grimes-cruz.org': [1], 'yates-smith.com': [1], 'hart-weaver.com': [1], 'mcintyre.info': [1], 'brown-carr.com': [1], 'cox.info': [1], 'fleming.com': [3], 'ellis-sullivan.org': [1], 'wu-livingston.com': [1], 'mcconnell.net': [1], 'pittman.com': [2], 'kelly-castaneda.com': [1], 'juarez.biz': [1], 'gregory.com': [2], 'cordova.com': [1], 'cherry.com': [1], 'serrano.net': [1], 'shaw-hunt.com': [1], 'sheppard-white.com': [1], 'ramos-martin.com': [1], 'lopez.org': [2], 'cowan-taylor.org': [1], 'fry.info': [1], 'chandler-farley.com': [1], 'fischer.com': [1], 'coleman.biz': [1], 'vega-taylor.net': [1], 'peterson-chavez.biz': [1], 'ray.com': [2], 'tyler-hicks.com': [1], 'patterson.com': [3], 'davis-gutierrez.com': [1], 'mckinney.com': [2], 'bailey-ponce.biz': [1], 'obrien-cabrera.com': [1], 'kent-butler.org': [1], 'mcdaniel.org': [1], 'salas.biz': [1], 'ruiz.org': [1], 'zhang.biz': [1], 'downs-fletcher.com': [1], 'chavez-park.com': [1], 'henry-meyer.biz': [1], 'wiggins-glover.com': [1], 'vincent.org': [1], 'casey-mejia.org': [1], 'mejia.biz': [1], 'burgess-fleming.com': [1], 'mayer.com': [1], 'scott.biz': [1], 'davenport.com': [1], 'english.biz': [1], 'baird.com': [3], 'joseph.com': [2], 'ochoa.biz': [1], 'cobb-mcdonald.com': [1], 'carey-howard.com': [1], 'peters.com': [1], 'jenkins.info': [3], 'krause.biz': [1], 'fuller.info': [1], 'mays.com': [3], 'bright.com': [1], 'carey-gillespie.biz': [1], 'perkins-santiago.com': [1], 'newton.com': [1], 'herrera.com': [3], 'golden.com': [1], 'wilcox.net': [1], 'knapp-snyder.biz': [1], 'ruiz-smith.info': [1], 'manning-espinoza.com': [1], 'goodman.biz': [1], 'lee.info': [2], 'parks.com': [1], 'pruitt-hodges.com': [1], 'anderson.org': [1], 'larson-murphy.com': [1], 'richardson-palmer.com': [1], 'price.info': [1], 'miller-ramsey.com': [1], 'york.com': [2], 'jones-thompson.com': [1], 'mccarty.info': [1], 'warren-chang.com': [1], 'allen.net': [2], 'randall-villarreal.com': [1], 'russell-campbell.net': [1], 'taylor-powell.info': [1], 'kelley.org': [1], 'ramos.com': [4], 'morgan.com': [5], 'adams-garcia.net': [1], 'ortiz.com': [6], 'davis.org': [1], 'lutz-gomez.com': [1], 'daniel.com': [2], 'dawson.com': [3], 'kim.info': [1], 'wells.org': [1], 'morton.net': [1], 'dunn.biz': [1], 'hill-walton.org': [1], 'carpenter-carney.com': [1], 'scott.org': [1], 'anderson.biz': [3], 'ellis.net': [1], 'shepherd-rodriguez.com': [1], 'carlson-smith.biz': [1], 'parker-stephenson.com': [1], 'sanchez.net': [1], 'gutierrez.com': [4], 'martinez-bryant.com': [1], 'shepard-lee.com': [1], 'duncan.info': [1], 'rogers-baker.net': [1], 'ritter.org': [1], 'cooper-lewis.com': [1], 'love.biz': [2], 'bonilla.biz': [1], 'ryan-meza.com': [1], 'hatfield.biz': [1], 'snow.com': [1], 'hardy.com': [1], 'hale-medina.com': [1], 'lopez-buck.info': [1], 'vega.info': [2], 'christensen.info': [1], 'lopez-castro.com': [1], 'mitchell.com': [2], 'cline.com': [2], 'aguilar.biz': [1], 'rodriguez.net': [4], 'diaz.com': [4], 'taylor-woods.org': [1], 'booth.com': [2], 'roberts-howell.biz': [1], 'gibson-dixon.com': [1], 'gomez.org': [1], 'pratt.com': [1], 'morris-rasmussen.com': [1], 'rogers.org': [1], 'mccoy-mckay.info': [1], 'roman.com': [2], 'ball-lopez.biz': [1], 'hill-stewart.com': [1], 'howard-diaz.com': [1], 'gray-harris.info': [1], 'perez-bailey.com': [1], 'gallagher-martin.net': [1], 'hunter-roberts.com': [1], 'hart-andrade.com': [1], 'moss-davis.com': [1], 'rose-hart.com': [1], 'perkins.biz': [1], 'brown-parks.com': [1], 'evans.org': [1], 'hansen.com': [4], 'diaz-ross.com': [1], 'hodge.com': [3], 'conner.com': [2], 'mcclain.info': [1], 'riley-miller.com': [1], 'vasquez-miller.net': [1], 'buchanan.net': [1], 'black-powell.com': [1], 'mclaughlin.net': [1], 'roberts-petersen.biz': [1], 'scott-reynolds.org': [1], 'rodgers-cordova.net': [1], 'fuentes.com': [1], 'norman.com': [1], 'peters-schmidt.com': [1], 'daniels-williams.biz': [1], 'reed.biz': [1], 'murphy.com': [4], 'booker.com': [1], 'woods-allen.biz': [1], 'richards-wilson.com': [1], 'morris-thomas.com': [1], 'miranda-nelson.com': [1], 'perry.com': [3], 'smith-smith.net': [1], 'day.net': [1], 'baker-austin.biz': [1], 'tyler.info': [2], 'crane.com': [2], 'steele-pierce.info': [1], 'hall-gomez.com': [1], 'ward.info': [2], 'conway.net': [1], 'taylor-garza.com': [1], 'gibbs.biz': [1], 'dawson.biz': [1], 'smith-brown.com': [1], 'bradley.biz': [1], 'powell.com': [6], 'farmer.org': [1], 'johnson-booth.com': [1], 'patterson-gutierrez.com': [1], 'jennings.info': [1], 'daniels.info': [1], 'finley.com': [1], 'herrera-mathis.com': [1], 'bowers-williams.biz': [1], 'miller-owens.com': [1], 'stephens.org': [3], 'herrera.info': [1], 'snyder.com': [2], 'reyes-miller.com': [1], 'hernandez-dawson.biz': [1], 'delgado-jordan.com': [1], 'potts.com': [1], 'decker-murray.biz': [1], 'khan.com': [1], 'elliott-mccarty.com': [1], 'lowe-baird.net': [1], 'garcia.biz': [2], 'kennedy-martin.com': [1], 'hernandez-walters.org': [1], 'friedman.biz': [1], 'miller-greene.com': [1], 'guerrero-wilkerson.com': [1], 'lucas.biz': [1], 'aguilar.info': [1], 'washington-williams.com': [1], 'bartlett-lynn.com': [1], 'cunningham-ramos.com': [1], 'ryan.info': [2], 'brown-davis.com': [1], 'anderson-hunt.com': [1], 'morales-hood.com': [1], 'brewer-singh.biz': [1], 'hoover.net': [1], 'nelson-alvarado.com': [1], 'shaw-bender.org': [1], 'carter.net': [2], 'weiss-parrish.net': [1], 'good-brooks.com': [1], 'farmer-bates.org': [1], 'moore-bell.net': [1], 'smith-chavez.com': [1], 'hartman.com': [3], 'klein-fernandez.com': [1], 'white-watkins.com': [1], 'willis-perry.org': [1], 'wheeler-hoffman.com': [1], 'franco.com': [3], 'choi.net': [3], 'daugherty-graves.biz': [1], 'edwards-klein.com': [1], 'haney.com': [1], 'perry-berg.com': [1], 'gonzalez-myers.com': [1], 'wolfe-obrien.net': [1], 'brown-clark.com': [1], 'chaney.info': [1], 'schaefer-martinez.com': [1], 'webster-gutierrez.biz': [1], 'welch.biz': [1], 'mack.com': [1], 'mosley-watson.org': [1], 'hobbs.com': [1], 'howard.org': [1], 'carr-young.com': [1], 'smith-turner.info': [1], 'moss.com': [2], 'gray.net': [1], 'orozco-collins.com': [1], 'lloyd-edwards.com': [1], 'wilson-aguilar.com': [1], 'robertson.com': [3], 'campbell.biz': [2], 'alvarez-stokes.net': [1], 'baldwin-park.com': [1], 'norton-gonzalez.com': [1], 'padilla-sullivan.org': [1], 'guerrero-wells.net': [1], 'garrett.net': [1], 'lawson-nguyen.com': [1], 'evans-anderson.com': [1], 'sosa.com': [1], 'smith-davis.biz': [1], 'fitzpatrick-harrison.com': [1], 'bauer-turner.com': [1], 'johnson-brown.net': [1], 'shannon.com': [1], 'alvarez-frey.com': [1], 'hanson.net': [1], 'coffey.org': [1], 'coffey-gordon.com': [1], 'davis-cruz.com': [1], 'dixon-hoover.biz': [1], 'pineda-buchanan.com': [1], 'lara.org': [1], 'lang.biz': [1], 'ford.com': [3], 'hernandez-thomas.com': [1], 'pacheco.com': [1], 'aguilar.org': [2], 'juarez-tucker.net': [1], 'yoder.com': [2], 'brown-kirk.com': [1], 'johnston-wilson.org': [1], 'salazar-miller.com': [1], 'stout.com': [1], 'rasmussen.biz': [1], 'morrow.net': [1], 'wolfe.org': [1], 'perez-trujillo.biz': [1], 'sims.net': [2], 'harris-ochoa.com': [1], 'king-allen.com': [1], 'higgins-miller.net': [1], 'lester.com': [1], 'burke-rojas.biz': [1], 'harrison-murillo.info': [1], 'mcgee-weaver.com': [1], 'sanchez.biz': [3], 'harrington-crawford.com': [1], 'gillespie.biz': [1], 'riley-smith.org': [1], 'harvey.com': [3], 'powers-rodriguez.com': [1], 'brown-dunn.com': [1], 'torres-williams.com': [1], 'garcia-martinez.com': [1], 'colon-craig.com': [1], 'wilson-hart.org': [1], 'lewis.biz': [1], 'robinson-cortez.com': [1], 'nelson-fields.com': [1], 'donaldson.com': [3], 'burton.org': [1], 'walton.com': [1], 'george.com': [2], 'gregory.net': [1], 'young.org': [2], 'charles.net': [1], 'dixon.biz': [1], 'phillips-taylor.com': [1], 'bell.com': [3], 'cooper-garcia.org': [1], 'baird-armstrong.com': [1], 'goodwin-henderson.com': [1], 'black.com': [1], 'luna-romero.com': [1], 'park.info': [1], 'cortez-oconnor.com': [1], 'lewis-guzman.org': [1], 'morris-avila.com': [1], 'washington-christian.com': [1], 'dillon-archer.biz': [1], 'lane-hamilton.com': [1], 'crawford.com': [4], 'long-todd.com': [1], 'jones-williams.org': [1], 'santana-fernandez.biz': [1], 'jackson-nelson.com': [1], 'lara-wright.com': [1], 'mathews.org': [1], 'kline.net': [1], 'ortega.com': [2], 'rowe.com': [3], 'nelson-morris.com': [1], 'nguyen-goodman.biz': [1], 'summers.com': [1], 'hughes.org': [1], 'barton.com': [3], 'stein.com': [1], 'shah-johnson.com': [1], 'watts.biz': [1], 'erickson.org': [1], 'warner-haley.com': [1], 'wilkins-cole.com': [1], 'brown-williams.net': [1], 'washington-schneider.net': [1], 'williams-tate.info': [1], 'ward-reid.info': [1], 'harvey-yoder.com': [1], 'washington-goodman.com': [1], 'jones-hill.info': [1], 'white.biz': [3], 'mcknight.com': [1], 'miller-anderson.com': [1], 'garza-scott.com': [1], 'kemp.info': [1], 'hall-poole.biz': [1], 'lowery.info': [1], 'hunt.com': [3], 'hamilton.biz': [2], 'bridges.info': [1], 'cuevas-porter.com': [1], 'rush.com': [1], 'austin.com': [4], 'young-shepherd.com': [1], 'wright-page.com': [1], 'webster.info': [1], 'wolfe.com': [2], 'wilson.net': [2], 'wiggins.net': [1], 'patton-golden.com': [1], 'norton.info': [1], 'diaz-davis.com': [1], 'robbins-moreno.biz': [1], 'perry-pittman.com': [1], 'wu-allen.com': [1], 'fisher-li.org': [1], 'cook.info': [2], 'carrillo.com': [3], 'larson.net': [1], 'allen.info': [2], 'buchanan-robinson.net': [1], 'clements-townsend.com': [1], 'brown-schmidt.biz': [1], 'chang-carpenter.net': [1], 'carpenter-bennett.com': [1], 'coffey.com': [1], 'nelson-hanna.info': [1], 'harrell.biz': [1], 'mcdonald-woodward.com': [1], 'garrett.org': [2], 'hutchinson-gallegos.info': [1], 'mcclure.org': [1], 'nash.com': [1], 'fletcher.com': [1], 'clark.net': [5], 'everett.biz': [1], 'jones-calderon.net': [1], 'medina.com': [3], 'patton-maynard.com': [1], 'warner-swanson.com': [1], 'hoover.info': [1], 'ellis.org': [3], 'davies.com': [1], 'paul.com': [2], 'mitchell-gutierrez.com': [2], 'young.net': [1], 'tucker-keller.info': [1], 'kelley-lyons.com': [1], 'sutton.com': [1], 'cannon-chandler.net': [1], 'bolton-lynn.biz': [1], 'ellison-fuller.com': [1], 'martin-mcintyre.com': [1], 'cross.com': [1], 'choi-schwartz.com': [1], 'oneal-blackwell.info': [1], 'richard-martinez.org': [1], 'cooper-blake.org': [1], 'price-ortiz.com': [1], 'castillo-martinez.com': [1], 'sandoval.com': [1], 'martin-stone.org': [1], 'shepard-davis.com': [1], 'todd.biz': [1], 'fuller.com': [1], 'mendez.info': [1], 'anderson-petersen.com': [1], 'rodriguez-jones.net': [1], 'freeman-smith.org': [1], 'boyle.com': [1], 'terrell.com': [2], 'fowler.com': [1], 'thompson.org': [3], 'weber.com': [1], 'adkins.info': [1], 'cooley.com': [1], 'avery.biz': [2], 'molina.com': [3], 'montes.org': [2], 'williamson-simpson.com': [1], 'keller-montgomery.com': [1], 'lewis-miller.info': [1], 'smith-lamb.com': [1], 'gregory-allen.com': [1], 'pennington-johnson.com': [1], 'higgins.com': [2], 'green-martinez.com': [1], 'dalton.com': [2], 'mills-baker.com': [1], 'howard.biz': [1], 'curtis.org': [1], 'miller-luna.com': [1], 'smith-kim.com': [1], 'dickerson.info': [1], 'vargas.com': [4], 'washington-jones.com': [1], 'gonzalez-palmer.org': [1], 'wallace-wise.info': [1], 'payne.net': [1], 'pratt.biz': [1], 'branch.com': [1], 'smith-jacobson.org': [1], 'bird-mckinney.com': [1], 'li.info': [2], 'ortiz.biz': [1], 'perez-ponce.info': [1], 'ward.com': [5], 'harris-quinn.info': [1], 'wall-matthews.com': [1], 'johns.com': [1], 'patterson-lawson.org': [1], 'dean-cruz.com': [1], 'bishop-nelson.info': [1], 'beasley-martinez.info': [1], 'white-stokes.com': [1], 'hutchinson-norman.com': [1], 'white.net': [1], 'robertson.net': [1], 'barber.com': [1], 'shepherd.com': [2], 'bradley-mendez.com': [1], 'olson-russell.com': [1], 'thomas-delgado.com': [1], 'daniel.org': [1], 'cummings.info': [1], 'estrada-wong.com': [1], 'valenzuela.info': [1], 'cervantes.com': [2], 'butler-meza.com': [1], 'castro.net': [1], 'porter-simon.info': [1], 'ellis-hines.org': [1], 'nguyen-harrington.com': [1], 'mooney-townsend.biz': [1], 'simmons.org': [1], 'jackson.biz': [1], 'peters-salazar.com': [1], 'conley-smith.com': [1], 'jones-wheeler.com': [1], 'reilly.com': [1], 'briggs.com': [1], 'green-brown.com': [1], 'campos.com': [1], 'cohen-cordova.com': [1], 'fields.org': [1], 'beard.net': [1], 'neal.com': [1], 'snyder.org': [1], 'rodriguez-sanchez.com': [1], 'wilkerson-martinez.com': [1], 'ortiz-warner.com': [1], 'ortiz.org': [1], 'patel.com': [2], 'stephens.com': [2], 'tucker-wilson.org': [1], 'spencer.info': [1], 'payne-noble.com': [1], 'gallagher-douglas.com': [1], 'carpenter.com': [3], 'lam.com': [2], 'pham.com': [2], 'clark.info': [1], 'greer.biz': [1], 'lane.com': [1], 'powell.biz': [1], 'hardy-flores.info': [1], 'mora-roberts.info': [1], 'roberts-cooper.biz': [1], 'sanford.net': [1], 'hall-weaver.com': [1], 'morris-moore.com': [1], 'barry.biz': [1], 'may.com': [3], 'strickland.net': [1], 'henson-davis.com': [1], 'greene.org': [2], 'benitez.net': [1], 'dean-hendricks.com': [1], 'harris-wall.org': [1], 'strickland.com': [1], 'sims-mejia.info': [1], 'marquez.biz': [1], 'ortega-saunders.biz': [1], 'hardy.net': [1], 'young.biz': [1], 'fitzgerald-hunter.biz': [1], 'graham.org': [1], 'charles-wells.com': [1], 'peters-wolfe.com': [1], 'hartman-campos.com': [1], 'hicks-thompson.org': [1], 'cruz-sanford.biz': [1], 'vasquez-riddle.com': [1], 'mckee-gaines.net': [1], 'torres-sharp.com': [1], 'pittman-lopez.biz': [1], 'fitzpatrick.net': [1], 'mason.biz': [2], 'harris-patton.com': [1], 'thomas-little.com': [1], 'thornton.org': [1], 'gamble.com': [1], 'moore-carter.net': [1], 'wyatt-williams.com': [1], 'black-smith.com': [1], 'massey.org': [1], 'edwards-harvey.com': [1], 'durham-white.com': [1], 'montoya.com': [1], 'maynard.info': [1], 'holt.net': [1], 'dixon-mcdonald.com': [1], 'wilkerson.net': [1], 'collier.net': [1], 'bray.com': [3], 'gonzales.biz': [1], 'bonilla.org': [1], 'pace.net': [1], 'delgado.info': [1], 'terrell-wolfe.biz': [1], 'bennett-ball.info': [1], 'figueroa-peck.com': [1], 'greene.com': [3], 'brown-kelly.com': [1], 'meadows-smith.biz': [1], 'giles.net': [1], 'brown-wiggins.com': [1], 'jarvis-lynch.org': [1], 'cunningham.com': [4], 'mckinney.net': [1], 'fritz-garcia.com': [1], 'brooks-morales.com': [1], 'norris.com': [2], 'nixon-james.com': [1], 'schneider.org': [2], 'winters-summers.biz': [1], 'keith-dunlap.com': [1], 'bowers-morrison.com': [1], 'hall.net': [2], 'vincent.net': [1], 'petty-rodriguez.com': [1], 'ochoa.com': [1], 'huang.com': [1], 'kelly.org': [1], 'rios-wilson.net': [1], 'gilbert.com': [2], 'thompson-hogan.info': [1], 'james-stevenson.com': [1], 'thompson-myers.com': [1], 'macias.com': [1], 'swanson.com': [4], 'olson.info': [2], 'dominguez.info': [1], 'wise.info': [1], 'nguyen.biz': [1], 'watson.biz': [2], 'jackson-richards.com': [1], 'james-harvey.com': [1], 'wilson-hughes.com': [1], 'garrett.biz': [1], 'gould-hill.com': [1], 'elliott.net': [1], 'walls.com': [2], 'cannon.org': [1], 'campbell-maldonado.com': [1], 'wang-ramos.com': [1], 'snyder-schroeder.net': [1], 'knapp.com': [2], 'diaz-beck.com': [1], 'lewis-scott.com': [1], 'stevens.net': [1], 'kelley.biz': [2], 'douglas-miles.com': [1], 'pittman.net': [1], 'jensen-brown.org': [1], 'ferguson.biz': [1], 'frederick.com': [1], 'rodgers.net': [1], 'miller.org': [5], 'jordan.biz': [1], 'wiley.com': [1], 'jones-romero.net': [1], 'hansen.biz': [1], 'montoya-costa.com': [1], 'butler-parker.biz': [1], 'townsend.com': [3], 'mendoza-flowers.info': [1], 'moreno-marshall.com': [1], 'petersen-richard.com': [1], 'marshall-nichols.com': [1], 'wilson.org': [2], 'may-koch.org': [1], 'hodges.com': [2], 'wright-hopkins.com': [1], 'hunter-gilbert.org': [1], 'rojas.com': [3], 'boone.com': [2], 'bowman-franklin.com': [1], 'ramos-wood.com': [1], 'baxter.org': [1], 'cunningham-hammond.com': [1], 'gordon-franklin.net': [1], 'garcia-perez.com': [1], 'williams-hayes.com': [1], 'flores.info': [2], 'wang-williams.com': [1], 'gould-townsend.com': [1], 'lynch-hopkins.com': [1], 'nguyen-curtis.org': [1], 'berry-james.com': [1], 'herman-wilson.biz': [1], 'martinez-young.org': [1], 'garza.com': [5], 'owens-marshall.com': [1], 'shields-wallace.com': [1], 'welch-anderson.com': [1], 'doyle.biz': [1], 'barron-williams.net': [1], 'love-pena.com': [1], 'parrish.net': [1], 'owens.com': [3], 'hernandez-ware.com': [1], 'gallegos-larson.com': [1], 'ingram-pennington.com': [1], 'davis-jones.com': [1], 'hoffman.com': [2], 'miller-burgess.net': [1], 'benson.net': [1], 'mason.net': [2], 'mann.com': [1], 'hendrix.biz': [1], 'brown-west.com': [1], 'harris-bell.info': [1], 'craig-nichols.com': [1], 'bailey-branch.biz': [1], 'fox.com': [1], 'moses.com': [1], 'davis-graham.org': [1], 'decker-buchanan.com': [2], 'preston.com': [2], 'doyle.info': [1], 'barnes.biz': [2], 'miranda.com': [1], 'salinas.com': [1], 'mayer.net': [1], 'kline-anthony.info': [1], 'wells.com': [2], 'hoffman-brooks.com': [1], 'armstrong.com': [3], 'simon-dean.com': [1], 'villa-white.info': [1], 'mendoza-burke.com': [1], 'lopez.biz': [3], 'long-santos.org': [1], 'schmidt.biz': [1], 'roth.com': [2], 'webb-daniels.com': [1], 'lee-phillips.com': [1], 'diaz.org': [1], 'house.com': [1], 'oconnor.info': [1], 'caldwell.com': [1], 'blake.org': [1], 'keller-park.com': [1], 'willis.org': [1], 'coffey.net': [1], 'walsh-moore.com': [1], 'hayes.com': [2], 'fields-johnson.com': [1], 'murphy.net': [1], 'espinoza.com': [2], 'cain-banks.com': [1], 'trevino.net': [1], 'lyons-porter.info': [1], 'burgess-brown.biz': [1], 'watson-ramos.info': [1], 'joyce.com': [1], 'harper.org': [1], 'castillo.net': [1], 'hughes-humphrey.net': [1], 'carter-patel.net': [1], 'martin-diaz.com': [1], 'guerra.com': [1], 'figueroa-arnold.com': [1], 'mitchell-yates.com': [1], 'hicks-kim.net': [1], 'brown-frederick.com': [1], 'douglas-cooper.com': [1], 'ross.net': [1], 'turner-cline.com': [1], 'saunders.org': [1], 'graham-herrera.info': [1], 'johnson-keller.com': [1], 'blake.info': [1], 'kerr.com': [1], 'clark-nguyen.com': [1], 'walters.net': [1], 'thomas-george.com': [1], 'love-patterson.com': [1], 'burns.net': [1], 'orr-elliott.biz': [1], 'anderson.info': [3], 'little.com': [1], 'newman.net': [2], 'wheeler-parks.net': [1], 'hayes-pruitt.biz': [1], 'baldwin-sandoval.com': [1], 'mann.org': [1], 'wilson-brown.com': [1], 'grant.com': [6], 'flowers-thomas.info': [1], 'vaughan-huff.com': [1], 'clark-morales.info': [1], 'harris-scott.info': [1], 'robbins.biz': [1], 'morris.org': [1], 'church.com': [1], 'dawson.info': [1], 'steele-allison.com': [1], 'kemp-humphrey.com': [1], 'zhang.com': [1], 'payne.org': [2], 'coleman-ramos.info': [1], 'gomez-hicks.com': [1], 'spears-robinson.com': [1], 'pope.com': [1], 'nielsen.com': [1], 'mcgee.com': [1], 'long.biz': [2], 'page-schwartz.biz': [1], 'perez.net': [1], 'pena.biz': [1], 'peck-ashley.com': [1], 'stephenson-myers.net': [1], 'vaughan.com': [1], 'wilkins-rich.net': [1], 'foley-henderson.org': [1], 'powell-sanford.com': [1], 'rodriguez-sweeney.com': [1], 'phillips.info': [2], 'hart-lopez.com': [1], 'norris-cross.info': [1], 'webster-rivera.com': [1], 'lynch.com': [3], 'sanchez-mccoy.com': [1], 'morrison.net': [1], 'dixon-evans.info': [1], 'luna-reynolds.biz': [1], 'black-thompson.net': [1], 'nash-lewis.biz': [1], 'hart.net': [1], 'sandoval-scott.org': [1], 'sullivan-harrell.net': [1], 'mcintyre-brooks.info': [1], 'lawrence.biz': [1], 'rivera.biz': [1], 'carroll.org': [2], 'porter-klein.com': [1], 'saunders.net': [1], 'lowery.com': [1], 'willis.com': [3], 'tyler-anderson.com': [1], 'curtis-evans.com': [1], 'fisher.biz': [2], 'thompson.biz': [2], 'martinez-wright.com': [1], 'phelps-barron.biz': [1], 'avila-best.org': [1], 'brown-flynn.com': [1], 'fuentes-cruz.org': [1], 'paul.biz': [1], 'melton.org': [1], 'brown-woods.com': [1], 'stephenson-callahan.com': [1], 'sherman.info': [1], 'steele.com': [3], 'richmond-warner.com': [1], 'suarez.biz': [1], 'hoffman.info': [1], 'pena.net': [1], 'brown-martin.biz': [1], 'powers.com': [2], 'little-smith.com': [1], 'brooks.org': [1], 'douglas-davis.net': [1], 'butler-harris.com': [1], 'bowen-wheeler.com': [1], 'williams-smith.com': [1], 'keller-turner.org': [1], 'oneal-guerra.com': [1], 'diaz-elliott.com': [1], 'cox-newman.com': [1], 'campbell-dennis.com': [1], 'howell-johnson.com': [1], 'garrett-ramos.com': [1], 'adams-taylor.com': [1], 'turner-ward.org': [1], 'chase.com': [1], 'walker-parsons.org': [1], 'cook.biz': [2], 'austin.org': [1], 'tanner.com': [1], 'lowe-porter.info': [1], 'price-price.com': [1], 'glenn.info': [1], 'crosby-arroyo.com': [1], 'avila.biz': [1], 'thompson-mcconnell.com': [1], 'martin-wright.info': [1], 'mcdonald.biz': [1], 'lambert.biz': [1], 'powers.net': [1], 'ramos-boyd.org': [1], 'bennett.biz': [1], 'holland.info': [1], 'kim-rodriguez.com': [1], 'barnes-cain.com': [1], 'villarreal-kane.com': [1], 'walker-mccormick.org': [1], 'nelson.org': [1], 'stein-dodson.info': [1], 'reed-carter.com': [1], 'levy-davis.com': [1], 'buck.com': [1], 'johnson-bennett.biz': [1], 'moreno.info': [1], 'simpson.biz': [1], 'allen-rodriguez.com': [1], 'davidson.com': [1], 'logan-price.com': [1], 'myers-garcia.com': [1], 'wright-neal.com': [1], 'monroe-valdez.org': [1], 'burton-cooley.com': [1], 'henson.com': [1], 'chandler.info': [1], 'smith-williams.com': [2], 'perkins.net': [1], 'rosales.info': [1], 'brown-kim.com': [1], 'black-sullivan.com': [1], 'ramos-moreno.com': [1], 'kelley.com': [1], 'sims.com': [2], 'nguyen-wolfe.com': [1], 'smith-brooks.com': [1], 'rivers.com': [2], 'ramos-parker.com': [1], 'wilson-page.com': [1], 'morton.com': [3], 'maldonado.biz': [1], 'hall-chapman.info': [1], 'spencer-shah.com': [1], 'campos-wyatt.com': [1], 'lyons-allen.com': [1], 'patton.org': [2], 'byrd.com': [4], 'smith-hall.com': [1], 'mcmahon-wilson.com': [1], 'duarte.net': [1], 'benson-cohen.org': [1], 'young-jimenez.com': [1], 'lawson-ramsey.com': [1], 'lin.biz': [1], 'pena-jackson.net': [1], 'patton-carter.com': [1], 'grant-simmons.com': [1], 'lowe-stephens.com': [1], 'bennett-freeman.com': [1], 'parker-richard.info': [1], 'jackson-williamson.com': [1], 'vance.com': [1], 'wade-myers.biz': [1], 'bennett-matthews.biz': [1], 'bowen.biz': [1], 'ballard.biz': [1], 'stevens.org': [1], 'marquez-salazar.com': [1], 'delacruz.com': [1], 'henry.biz': [1], 'wall.org': [1], 'poole.com': [1], 'glenn-brown.com': [1], 'brown-smith.biz': [1], 'delacruz.org': [1], 'wallace-shaw.com': [1], 'butler.biz': [1], 'harmon-vega.net': [1], 'myers-smith.info': [1], 'frost.org': [1], 'liu.com': [1], 'owens.info': [2], 'yu-miranda.org': [1], 'hale.info': [1], 'white-mitchell.info': [1], 'keller.com': [1], 'hays.biz': [1], 'spencer.biz': [1], 'wheeler.org': [1], 'kent.net': [1], 'lawrence.net': [2], 'walton-cain.com': [1], 'campbell-humphrey.com': [1], 'murray-moss.com': [1], 'ewing-jackson.net': [1], 'orozco-martinez.com': [1], 'prince-barber.biz': [1], 'jimenez.com': [3], 'bird-cook.info': [1], 'blackwell-wood.info': [1], 'mcfarland.com': [1], 'mendoza.com': [4], 'potter.biz': [1], 'rollins.org': [1], 'rose.com': [2], 'schaefer.info': [1], 'miller-tran.com': [1], 'jones-benson.com': [1], 'wong-mueller.com': [1], 'proctor-young.com': [1], 'palmer.biz': [2], 'farmer.com': [1], 'shelton-robinson.com': [1], 'moran.info': [1], 'mosley.com': [1], 'bond-brown.biz': [1], 'orr-bowers.com': [1], 'ortega-smith.info': [1], 'levine-mcpherson.info': [1], 'martin-alexander.com': [1], 'chaney.com': [1], 'parks-hicks.org': [1], 'barber-mccormick.com': [1], 'beasley-moore.net': [1], 'hunt-davis.com': [1], 'frey.com': [1], 'coleman.org': [1], 'huerta.org': [1], 'johnson.org': [5], 'edwards.org': [1], 'reynolds.info': [1], 'alvarez-klein.net': [1], 'orr-frank.com': [1], 'petersen.com': [2], 'robles-garza.org': [1], 'rogers-craig.com': [1], 'hebert-rodriguez.com': [1], 'lopez-mueller.com': [1], 'morris-martin.com': [1], 'mcintosh-price.com': [1], 'gonzalez-lee.com': [1], 'hill-hood.com': [1], 'arnold.com': [3], 'strong.com': [2], 'brown-burns.org': [1], 'larson.com': [2], 'ramsey.com': [1], 'george-ramirez.com': [1], 'matthews-nelson.net': [1], 'white.info': [4], 'kline.info': [1], 'leach-brown.com': [1], 'colon-hawkins.com': [1], 'molina-price.com': [1], 'waters.info': [1], 'lynch-huber.org': [1], 'arroyo.net': [1], 'washington-lee.net': [1], 'bowers.com': [1], 'vargas.org': [1], 'williams-hayes.info': [1], 'white-myers.biz': [1], 'ayers.com': [2], 'blevins.com': [1], 'floyd-nelson.com': [1], 'ryan.biz': [1], 'snyder.info': [1], 'rodriguez-matthews.info': [1], 'delgado-stewart.info': [1], 'nunez-acosta.org': [1], 'morris-roberts.info': [1], 'russell.biz': [1], 'montes-schmidt.com': [1], 'hess-mcgee.com': [1], 'holt-garcia.net': [1], 'carter-williams.org': [1], 'morales.com': [4], 'perry-ayala.com': [1], 'cooper-gonzales.net': [1], 'smith-smith.com': [1], 'freeman-evans.info': [1], 'miller-curtis.biz': [1], 'conner.info': [1], 'schmidt.info': [1], 'fernandez-parker.com': [1], 'patterson.org': [1], 'burns-williams.net': [1], 'vega-ellis.org': [1], 'giles.com': [2], 'howard-cook.org': [1], 'novak.org': [1], 'marquez.com': [2], 'massey.net': [1], 'ellis-young.info': [1], 'simmons-zimmerman.com': [1], 'matthews-herman.info': [1], 'pruitt-peck.org': [1], 'cohen-bender.biz': [1], 'hicks-warner.info': [1], 'huynh-stanton.info': [1], 'cole.biz': [1], 'collins.org': [1], 'jones-rodriguez.net': [1], 'mitchell.biz': [1], 'davis-lewis.com': [1], 'tran.info': [2], 'martin-white.com': [1], 'mcmillan.net': [1], 'wilcox-parker.org': [1], 'foster-drake.com': [1], 'mills-sutton.com': [1], 'scott-kaufman.com': [1], 'hall-ochoa.com': [1], 'jones-clark.com': [1], 'anderson-rodriguez.org': [1], 'stout.org': [1], 'meza.info': [1], 'webster.net': [2], 'edwards-cooper.com': [1], 'hebert.org': [1], 'phillips.org': [1], 'ferguson-ross.com': [1], 'buckley.com': [1], 'bonilla.info': [1], 'giles.info': [1], 'wade.org': [1], 'torres-meyer.biz': [1], 'taylor.info': [1], 'rice.com': [2], 'larsen.com': [1], 'marshall.info': [1], 'kim.com': [2], 'pierce-calhoun.com': [1], 'duffy-murray.com': [1], 'smith-waters.info': [1], 'rosario.com': [1], 'torres-johnson.com': [1], 'calhoun.biz': [1], 'byrd.info': [1], 'watts-schmidt.org': [1], 'roach-alexander.com': [1], 'vargas-peters.com': [1], 'lewis-lloyd.com': [1], 'dodson-warner.com': [1], 'stephenson-stephens.biz': [1], 'davis-rubio.info': [1], 'sanchez-fisher.com': [1], 'hubbard.info': [1], 'ramirez.org': [1], 'york-bird.com': [1], 'wise-olson.com': [1], 'jimenez.net': [1], 'martin.net': [2], 'buchanan-anderson.com': [1], 'stevenson.biz': [1], 'ware-odom.com': [1], 'flores-flowers.com': [1], 'wheeler.com': [3], 'cunningham-barrett.net': [1], 'clayton-davidson.com': [1], 'dunn-edwards.com': [1], 'bowen.net': [1], 'james-blake.biz': [1], 'elliott-watson.com': [1], 'burgess.info': [1], 'ramirez-diaz.com': [1], 'hester.com': [1], 'valenzuela.org': [1], 'humphrey.biz': [1], 'santiago.org': [1], 'ho-palmer.com': [1], 'white-howard.com': [1], 'ward-ruiz.org': [1], 'macias-williams.net': [1], 'leblanc-price.info': [1], 'franco.biz': [1], 'camacho.net': [1], 'ball.com': [1], 'schultz.biz': [1], 'mosley.org': [1], 'allen.biz': [1], 'collins-johnson.biz': [1], 'todd.net': [1], 'martinez-anderson.com': [1], 'wheeler-goodman.com': [1], 'smith-calhoun.com': [1], 'williams-levy.com': [1], 'kennedy.org': [1], 'noble-spencer.info': [1], 'bailey.org': [1], 'kline.com': [1], 'price-wilson.com': [1], 'church.net': [1], 'green-rodgers.com': [1], 'estrada.com': [2], 'love-sanchez.net': [1], 'owen.com': [1], 'nguyen-wright.info': [1], 'pope.info': [1], 'taylor-bishop.com': [1], 'mccoy.biz': [1], 'hunter-oconnell.net': [1], 'atkins.com': [2], 'howell-nelson.net': [1], 'anthony-guerra.com': [1], 'krueger-walker.com': [1], 'andrews-simpson.biz': [1], 'mccall.com': [1], 'collins-cole.info': [1], 'wilcox.com': [1], 'butler.org': [2], 'collier.org': [1], 'garcia-contreras.com': [1], 'potter-kane.info': [1], 'burke-perez.org': [1], 'gill.com': [1], 'guerrero-huynh.com': [1], 'mccarthy-baxter.info': [1], 'castaneda-evans.com': [1], 'richmond.com': [3], 'montgomery-miller.org': [1], 'mcdonald.org': [1], 'tucker.net': [1], 'wright.info': [1], 'anderson-herrera.biz': [1], 'harper-mcmillan.com': [1], 'trujillo.info': [1], 'richardson-adams.com': [1], 'reed-johnston.com': [1], 'camacho.com': [1], 'harper-smith.biz': [1], 'carter-york.com': [1], 'ford-martinez.com': [1], 'vang.net': [1], 'evans.info': [1], 'lopez-taylor.org': [1], 'wilkins-campos.com': [1], 'walter-scott.net': [1], 'santana-perez.org': [1], 'lee-moore.com': [1], 'sexton-lee.com': [1], 'callahan-robinson.com': [1], 'finley-snyder.net': [1], 'byrd-williams.net': [1], 'rhodes.info': [1], 'thornton-powell.info': [1], 'rich.biz': [1], 'washington.org': [1], 'willis-wilson.com': [1], 'valencia.com': [2], 'henry-marquez.net': [1], 'warren-campbell.com': [1], 'vance-prince.com': [1], 'kelley-galloway.com': [1], 'gregory-mills.com': [1], 'howell-lewis.info': [1], 'williams.net': [2], 'harris.info': [1], 'acosta.com': [1], 'hart-young.com': [1], 'parker.biz': [1], 'robinson-sanchez.com': [1], 'curry.com': [1], 'jackson-coleman.com': [1], 'foley.com': [1], 'cook.org': [1], 'robbins.com': [1], 'burns.org': [2], 'velasquez.com': [2], 'best-green.com': [1], 'drake.com': [1], 'day-watkins.org': [1], 'cunningham-miller.com': [1], 'may-costa.net': [1], 'smith-mitchell.com': [1], 'levy-smith.com': [1], 'collins-mccullough.com': [1], 'macias-jones.org': [1], 'howard-rodriguez.com': [1], 'kennedy-jones.com': [1], 'english.com': [1], 'guzman-frank.net': [1], 'robinson-harding.com': [1], 'gray-chan.com': [1], 'bradley.com': [1], 'fitzgerald-graham.org': [1], 'leon.com': [2], 'chan.info': [1], 'mejia.net': [1], 'fox.org': [1], 'kemp.com': [2], 'johnson-smith.com': [1], 'carrillo-pacheco.biz': [1], 'francis.info': [1], 'newman-bell.com': [1], 'joyce.net': [1], 'rodgers-mendez.com': [1], 'thomas-russell.com': [1], 'madden.org': [1], 'miller.biz': [5], 'hunter-norton.org': [1], 'stanley.com': [1], 'mcbride.net': [1], 'ramos-davis.com': [1], 'frazier.com': [4], 'george.org': [1], 'hernandez.net': [2], 'carroll-tyler.org': [1], 'huang-scott.net': [1], 'bell.biz': [2], 'ferrell.info': [1], 'watson.org': [1], 'torres-murray.com': [1], 'hardin.com': [1], 'dixon.info': [1], 'hampton.info': [1], 'liu-bryan.com': [1], 'trevino.com': [1], 'wood-soto.com': [1], 'valdez.net': [1], 'jacobs-williams.com': [1], 'bernard.com': [2], 'clay-smith.com': [1], 'bell-frost.com': [1], 'campbell-dominguez.com': [1], 'smith-rivera.org': [1], 'flores-white.com': [1], 'young.info': [2], 'wright-jones.biz': [1], 'petty.org': [1], 'wong.biz': [1], 'giles-rogers.info': [1], 'bryan.biz': [1], 'woods-harrington.biz': [1], 'wise-gaines.com': [1], 'tanner-thomas.com': [1], 'hart-schwartz.info': [1], 'merritt.net': [1], 'trevino.org': [1], 'powers-evans.org': [1], 'mcclain-kelley.biz': [1], 'castillo-williams.com': [1], 'malone.biz': [1], 'morris.net': [2], 'kennedy-rosales.com': [1], 'chavez-watson.org': [1], 'allen-anderson.com': [1], 'ross-white.com': [1], 'thomas.info': [1], 'brown-nelson.com': [1], 'riddle.com': [2], 'mcguire.com': [1], 'christian-lee.com': [1], 'reeves-brown.biz': [1], 'hernandez-gomez.com': [1], 'evans-davis.com': [1], 'morgan.org': [1], 'baker.org': [1], 'madden.com': [1], 'phillips-hernandez.org': [1], 'le.com': [1], 'hart-rodriguez.com': [1], 'wheeler.info': [1], 'oliver.com': [4], 'suarez.net': [1], 'larson-barrett.com': [1], 'shah-hill.net': [1], 'young-sellers.com': [1], 'gonzalez-foster.com': [1], 'russell.info': [1], 'walton.info': [1], 'herrera-garrett.com': [1], 'powers-reyes.com': [1], 'benitez.com': [1], 'williams-williams.com': [1], 'deleon-ayala.biz': [1], 'haas.info': [1], 'barrett.info': [1], 'moore-moran.com': [1], 'jackson-anderson.com': [1], 'ramos-wilson.biz': [1], 'combs-taylor.com': [1], 'lopez-reynolds.com': [1], 'bailey-ramsey.net': [1], 'hayes-stout.com': [1], 'parks-alvarado.net': [1], 'carr.info': [1], 'lang.com': [2], 'singh.com': [2], 'dominguez-robinson.com': [1], 'hinton-stevens.net': [1], 'townsend-reed.info': [1], 'ramirez-kelly.com': [1], 'hammond-welch.org': [1], 'robles-roberts.biz': [1], 'kelly-mcbride.com': [1], 'little-delgado.com': [1], 'black.net': [1], 'harding-alexander.net': [1], 'wilkinson-hill.org': [1], 'hess.com': [1], 'bowers.info': [1], 'wright-scott.com': [1], 'hess-holt.net': [1], 'moss.org': [2], 'cooper.net': [1], 'shaffer-boone.net': [1], 'larson.info': [1], 'hays.com': [1], 'wilson-spencer.info': [1], 'cardenas.biz': [1], 'vazquez.net': [1], 'armstrong-livingston.info': [1], 'young-neal.com': [1], 'irwin.com': [1], 'ward.biz': [1], 'moyer.biz': [1], 'barker-cervantes.info': [1], 'sanchez-colon.com': [1], 'smith-gordon.com': [1], 'hill-sanders.com': [1], 'mcdaniel.com': [1], 'wells.net': [1], 'waters.com': [1], 'sanders-townsend.com': [1], 'orozco.com': [1], 'simmons.info': [2], 'salazar.com': [1], 'torres-bonilla.com': [1], 'smith-ward.org': [1], 'english.net': [1], 'jacobson.org': [1], 'webb-sanchez.org': [1], 'evans-logan.com': [1], 'padilla.com': [3], 'cook-matthews.com': [1], 'murray-suarez.com': [1], 'brock.info': [1], 'lopez-webb.org': [1], 'riley-martin.com': [1], 'hughes-baker.com': [1], 'hahn.info': [1], 'lynch.biz': [1], 'jackson-fletcher.com': [1], 'cummings.net': [1], 'patterson-griffin.com': [1], 'michael-harvey.net': [1], 'norton-wallace.com': [1], 'christensen-stewart.com': [1], 'wise-nash.net': [1], 'sexton.info': [1], 'cervantes-williams.com': [1], 'barrera.biz': [1], 'sanford-meadows.com': [1], 'trujillo.com': [1], 'barrett.biz': [1], 'arnold.net': [1], 'turner.biz': [1], 'king.org': [1], 'fuentes.biz': [1], 'hurley.com': [1], 'noble.com': [1], 'holt.org': [1], 'mcpherson.com': [2], 'burnett.com': [1], 'ingram-kelly.com': [1], 'grant-jackson.biz': [1], 'craig-lawson.com': [1], 'richards-wong.biz': [1], 'rocha.com': [1], 'delacruz.net': [1], 'wilkins.biz': [1], 'harris-young.com': [1], 'ramirez.info': [1], 'goodman.org': [2], 'cuevas-morales.info': [1], 'gordon.info': [1], 'hall.biz': [2], 'ramirez.biz': [1], 'tapia.com': [1], 'stevens-hart.biz': [1], 'montgomery.com': [1], 'bailey.info': [1], 'petersen.net': [1], 'jones-heath.biz': [1], 'simmons-jackson.info': [1], 'harris.net': [1], 'hamilton-mathews.com': [1], 'price-lynch.com': [1], 'johnson-whitney.org': [1], 'taylor-sullivan.info': [1], 'torres-torres.info': [1], 'erickson-russell.com': [1], 'gallagher-payne.com': [1], 'forbes.com': [1], 'adams-peck.info': [1], 'wyatt-hill.com': [1], 'nelson-hardin.com': [1], 'hood-cook.com': [1], 'rodriguez-martinez.com': [1], 'robles.info': [1], 'roberts-thomas.com': [1], 'snow-fisher.biz': [1], 'taylor-baker.biz': [1], 'ward.net': [1], 'miles-brown.info': [1], 'pineda.biz': [1], 'dixon-stone.net': [1], 'escobar.com': [1], 'reynolds-thompson.com': [1], 'jones-hicks.com': [1], 'arias-moore.biz': [1], 'austin-nichols.com': [1], 'rhodes.biz': [2], 'carter-clark.com': [1], 'wilson-weaver.com': [1], 'williams-garner.com': [1], 'henry-waters.com': [1], 'wang-mejia.biz': [1], 'west-thomas.info': [1], 'miller-ochoa.com': [1], 'delacruz-dyer.info': [1], 'holland.com': [1], 'rowland-kaufman.com': [1], 'ballard-cook.com': [1], 'ross.info': [1], 'coleman-thompson.com': [1], 'dixon-hayes.biz': [1], 'cameron.com': [1], 'washington-pena.org': [1], 'santiago.info': [2], 'chapman-mcintyre.com': [1], 'mcbride.com': [2], 'klein.net': [1], 'moore.biz': [2], 'blake.com': [1], 'wilson.info': [1], 'massey.biz': [1], 'huynh-wood.com': [1], 'khan-watson.com': [1], 'smith-jenkins.net': [1], 'boyer.com': [2], 'boyd-jones.biz': [1], 'barron-ortega.biz': [1], 'webb.net': [1], 'boyle-cooper.info': [1], 'hicks.net': [1], 'morris-vargas.com': [1], 'martinez-hale.com': [1], 'short-watkins.com': [1], 'sullivan-keith.info': [1], 'hoffman-taylor.com': [1], 'jensen-carter.biz': [1], 'snyder.biz': [1], 'quinn.info': [1], 'mckinney-smith.com': [1], 'ochoa.net': [1], 'scott-cardenas.org': [1], 'crawford.info': [1], 'frank.org': [1], 'todd.com': [2], 'torres-stewart.info': [1], 'thomas-horton.com': [1], 'savage.com': [1], 'hess-brooks.com': [1], 'hughes-lynch.info': [1], 'chavez-stephens.com': [1], 'silva-kennedy.com': [1], 'cohen-cantrell.net': [1], 'fisher-burns.net': [1], 'jackson-hernandez.biz': [1], 'gibson-west.com': [1], 'woods-williams.org': [1], 'hernandez-morales.biz': [1], 'castro-padilla.com': [1], 'sanchez-smith.com': [1], 'edwards-francis.com': [1], 'christian.com': [1], 'wallace-downs.com': [1], 'porter.net': [1], 'wolfe-jimenez.biz': [1], 'erickson.com': [1], 'white-case.com': [1], 'ortega-burke.info': [1], 'mcdonald.com': [1], 'lozano-ward.com': [1], 'larsen-rodriguez.com': [1], 'medina-alexander.info': [1], 'perry-shah.com': [1], 'norris-taylor.org': [1], 'brown-carter.net': [1], 'stone.org': [1], 'williams-mahoney.com': [1], 'benitez.org': [1], 'zuniga-jackson.com': [1], 'maxwell.biz': [1], 'reyes-jordan.net': [1], 'wade-chang.com': [1], 'west-roman.org': [1], 'le.info': [1], 'martin-rice.net': [1], 'johnson-carter.com': [1], 'brady-black.info': [1], 'allison-rice.com': [1], 'morrison.biz': [1], 'rodgers-lane.com': [1], 'welch-jones.org': [1], 'barr.com': [1], 'douglas-mccarthy.net': [1], 'meadows.com': [1], 'myers.info': [1], 'reed.org': [2], 'spencer.net': [1], 'ford.net': [1], 'smith-jones.net': [1], 'chang.com': [1], 'fernandez.biz': [2], 'wright-richard.com': [1], 'stevenson.com': [1], 'brown-gray.com': [1], 'mclean-jenkins.biz': [1], 'salazar-wade.com': [1], 'wilson-watson.com': [1], 'bennett.info': [1], 'martinez-shepherd.com': [1], 'garcia-white.com': [1], 'sanders.info': [1], 'lane.biz': [1], 'west.info': [1], 'hines.net': [1], 'perry-sloan.net': [1], 'burton-bowen.org': [1], 'duncan.biz': [1], 'weaver-foster.net': [1], 'murphy.info': [2], 'bryant.com': [3], 'mcneil-johnson.com': [1], 'andersen-powers.info': [1], 'wall-lopez.com': [1], 'morrow-johnson.net': [1], 'maynard-olson.com': [1], 'oconnor-edwards.com': [1], 'mayo.com': [1], 'marshall-peck.com': [1], 'brown-wagner.org': [1], 'baker.net': [1], 'simpson.com': [1], 'bryant-washington.net': [1], 'krause.info': [1], 'martinez-adams.com': [1], 'trevino-lawson.info': [1], 'perkins.com': [2], 'garner.net': [1], 'hunter-ortiz.info': [1], 'buckley-ruiz.com': [1], 'warren-horne.org': [1], 'wood.net': [1], 'mcmahon-reilly.com': [1], 'calderon-williams.com': [1], 'robertson.info': [2], 'freeman-hendrix.info': [1], 'key-carter.com': [1], 'howard-hunter.com': [1], 'warren.info': [1], 'gutierrez.net': [1], 'campbell-reed.com': [1], 'perez-green.info': [1], 'green.biz': [2], 'rosales-gutierrez.net': [1], 'bryant-jones.com': [1], 'velazquez-smith.com': [1], 'hayes.info': [2], 'mccullough-russo.biz': [1], 'brooks.biz': [1], 'gonzalez-bradley.org': [1], 'hall-mack.com': [1], 'ferguson.net': [1], 'klein.info': [1], 'williams-fernandez.com': [1], 'perez.biz': [1], 'craig.biz': [1], 'washington.info': [1], 'clark-phillips.net': [1], 'leonard-steele.com': [1], 'graham-gutierrez.biz': [1], 'howard.net': [2], 'underwood.info': [1], 'garcia-luna.net': [1], 'kirby-vincent.com': [1], 'cruz.info': [1], 'hill-cruz.net': [1], 'turner-lee.com': [1], 'morales-schneider.net': [1], 'taylor-cardenas.biz': [1], 'howell-garcia.com': [1], 'krause-rose.net': [1], 'beck.org': [1], 'taylor-miller.com': [1], 'mendoza.biz': [1], 'anderson-li.com': [1], 'hernandez-mitchell.com': [1], 'shelton.org': [1], 'nelson-marquez.info': [1], 'perry.net': [1], 'holmes-andrews.info': [1], 'calderon-davis.net': [1], 'harmon.info': [2], 'koch-lopez.com': [1], 'weber-gordon.biz': [1], 'lamb.net': [1], 'finley.org': [1], 'mathews-smith.com': [1], 'kaufman.info': [1], 'fox.net': [1], 'burton-anderson.com': [1], 'salazar.org': [1], 'austin.biz': [1], 'yang.net': [1], 'woods-gutierrez.com': [1], 'jackson-johnson.com': [1], 'carpenter.biz': [1], 'harrison-baker.com': [1], 'bruce.com': [1], 'henderson-graves.com': [1], 'logan.biz': [1], 'boyd-lowe.com': [1], 'anderson-carson.net': [1], 'davies.net': [1], 'jennings.com': [1], 'rodriguez-george.com': [1], 'buckley-berg.info': [1], 'smith-guzman.info': [1], 'green-fields.net': [1], 'brady-moore.biz': [1], 'schmidt-simpson.com': [1], 'miles.com': [1], 'mitchell-hill.com': [1], 'montgomery-osborne.biz': [1], 'carter.org': [1], 'duke-ford.com': [1], 'randall-collier.info': [1], 'chen.com': [1], 'owens.biz': [1], 'ortiz-james.org': [1], 'jones-terry.com': [1], 'nelson.net': [1], 'hamilton-thompson.org': [1], 'jensen.net': [1], 'johnson-hall.com': [1], 'hoover-martin.com': [1], 'rodgers.com': [1], 'wade.net': [1], 'hart-scott.com': [1], 'castro.biz': [1], 'nelson-peters.info': [1], 'diaz.net': [1], 'sharp.com': [1], 'snyder-frederick.com': [1], 'collins.info': [1], 'mendez.com': [2], 'jones-dean.com': [1], 'cooper-martinez.com': [1], 'carey.org': [1], 'lucero-ruiz.net': [1], 'taylor-white.net': [1], 'townsend-howe.com': [1], 'ortiz-chase.com': [1], 'huang.net': [1], 'lawrence-washington.biz': [1], 'barton-tucker.com': [1], 'decker.com': [1], 'mccarthy-green.org': [1], 'schneider-evans.info': [1], 'bates.net': [1], 'quinn-flynn.org': [1], 'butler-espinoza.info': [1], 'walker-mckee.org': [1], 'clark-terry.com': [1], 'beltran.com': [1], 'white-baxter.com': [1], 'higgins.info': [1], 'cox.net': [1], 'flowers-roberts.com': [1], 'moore-atkins.com': [1], 'russell.org': [1], 'fernandez-nelson.com': [1], 'navarro.info': [1], 'brown-peck.net': [1], 'carney-peterson.com': [1], 'gordon.biz': [1], 'guzman.biz': [1], 'hatfield.com': [1], 'powell-sullivan.net': [1], 'clark-martinez.com': [1], 'miller-hampton.com': [1], 'faulkner.org': [1], 'deleon.net': [1], 'cardenas-osborne.biz': [1], 'rosales.com': [1], 'ayala.com': [1], 'mullen.biz': [1], 'dyer.com': [1], 'anderson-reynolds.biz': [1], 'mcdonald-rocha.biz': [1], 'clay.com': [1], 'hall-glenn.com': [1], 'beard-smith.net': [1], 'williams-doyle.com': [1], 'allen-miller.net': [1], 'mccoy.org': [1], 'brown-phillips.com': [1], 'phelps.org': [1], 'nolan-york.com': [1], 'white-wolfe.biz': [1], 'dyer-nguyen.com': [1], 'gonzales-garrett.com': [1], 'fuentes.org': [1], 'butler-wolf.biz': [1], 'richards.net': [1], 'dillon.info': [1], 'hall.info': [1], 'frost.com': [1], 'young-thompson.info': [1], 'bray.biz': [1], 'ramirez-garcia.info': [1], 'hanna.com': [1], 'stanton.info': [2], 'weiss-harrison.com': [1], 'nguyen-rodriguez.com': [1], 'juarez.info': [1], 'shelton.biz': [1], 'tran.biz': [1], 'austin.info': [1], 'cox-fowler.info': [1], 'webster.org': [1], 'finley-ruiz.net': [1], 'floyd-miller.net': [1], 'watts.net': [1], 'jones-irwin.com': [1], 'moran-barton.com': [1], 'sosa-brown.com': [1], 'mcneil.com': [1], 'levy-tapia.biz': [1], 'thompson-watson.com': [1], 'acevedo-osborn.com': [1], 'stephenson.com': [2], 'norris.info': [1], 'spence-santos.net': [1], 'jones-anderson.com': [1], 'johnson-taylor.org': [1], 'kirk-marquez.com': [1], 'cantrell-taylor.com': [1], 'alvarado.com': [1], 'walker.biz': [1], 'mathews-bryan.com': [1], 'schwartz.org': [1], 'nelson.biz': [1], 'nichols-willis.com': [1], 'padilla.info': [1], 'boyd-williams.com': [1], 'mcneil-steele.com': [1], 'french.biz': [1], 'ward-morrison.net': [1], 'stokes-phelps.com': [1], 'miller-griffith.com': [1], 'jacobson.com': [1], 'lopez-peterson.net': [1], 'thompson-baker.biz': [1], 'garza.org': [1], 'mejia-andrews.biz': [1], 'gomez-roberts.com': [1], 'baker-thomas.com': [1], 'shannon-nelson.com': [1], 'lynn-shelton.com': [1], 'stanton.com': [1], 'davila.com': [1], 'rice.biz': [1], 'ford-simmons.net': [1], 'cole-hill.com': [1], 'douglas.net': [1], 'yates-duffy.net': [1], 'conley.com': [1], 'jordan-ortiz.com': [1], 'wright-fisher.biz': [1], 'miller-webb.com': [1], 'mccall.net': [1], 'wade.com': [1], 'jones-combs.com': [1], 'reilly.net': [1], 'murray-graves.com': [1], 'powell-blanchard.com': [1], 'jackson.info': [1], 'mueller.com': [1], 'green.net': [1], 'vasquez.net': [1], 'chapman-porter.com': [1], 'bradshaw-hernandez.com': [1], 'conway-price.com': [1], 'guerrero-sullivan.org': [1], 'taylor-newton.com': [1], 'wu.com': [1], 'jenkins-jenkins.org': [1], 'barton-potts.com': [1], 'rivera-perez.info': [1], 'jackson-cook.com': [1], 'mills-bond.net': [1], 'ford-cisneros.com': [1], 'wolf.com': [1], 'leon-hanson.com': [1], 'frazier-hunter.net': [1], 'berry.biz': [1], 'beasley.info': [1], 'barry.org': [1], 'drake-crosby.com': [1], 'peterson-matthews.com': [1], 'perry.org': [1], 'chen-flores.org': [1], 'castaneda.com': [2], 'zavala.org': [1], 'koch.com': [1], 'bryant-lawson.com': [1], 'ryan-baker.com': [1], 'conley.org': [1], 'greene.biz': [1], 'bass.net': [1], 'thomas-ramos.com': [1], 'torres-day.com': [1], 'brown-mckay.com': [1], 'green-morrison.com': [1], 'arnold.org': [1], 'may-harper.com': [1], 'norris.net': [1], 'soto-stewart.com': [1], 'pierce.org': [1], 'jimenez-hansen.org': [1], 'fry-rice.com': [1], 'byrd-simpson.com': [1], 'wu.net': [1], 'yates.biz': [1], 'spencer.com': [1], 'blackburn.org': [1], 'valdez.com': [2], 'estes-fisher.org': [1], 'esparza.com': [1], 'armstrong-estrada.biz': [1], 'gonzalez-smith.com': [1], 'lee-schaefer.org': [1], 'mckenzie.biz': [1], 'wood.info': [1], 'williamson-johnson.org': [1], 'oconnell.com': [1], 'walters.biz': [1], 'lopez-williamson.net': [1], 'hernandez-johnson.org': [1], 'simon-flores.com': [1], 'carlson.org': [1], 'johnson-waters.com': [1], 'nichols.org': [1], 'le.net': [1], 'marshall-casey.biz': [1], 'johnson-perez.info': [1], 'moody-raymond.net': [1], 'berg.info': [1], 'murphy-garcia.com': [1], 'powell-fox.org': [1], 'hurst-howard.com': [1], 'collins-wilson.org': [1], 'spears.info': [1], 'becker-jones.com': [1], 'todd-richard.com': [1], 'wilkins.com': [2], 'hernandez-martinez.com': [1], 'wright-martinez.com': [1], 'mitchell-wu.com': [1], 'mitchell-cook.com': [1], 'santiago-brown.com': [1], 'matthews-martinez.com': [1], 'coffey-ross.biz': [1], 'walker-jenkins.com': [1], 'pacheco.net': [1], 'rowe.net': [1], 'mccann.com': [1], 'hunt-gonzalez.info': [1], 'ward-boyd.com': [1], 'velez-rios.org': [1], 'chambers-baker.biz': [1], 'leonard-johnson.com': [1], 'forbes-barton.biz': [1], 'shepherd.biz': [1], 'smith-barber.com': [1], 'brooks-phillips.com': [1], 'guerrero-smith.org': [1], 'smith-martinez.net': [1], 'maddox-mann.info': [1], 'ferrell.com': [1], 'kaufman.biz': [1], 'stewart-alvarez.com': [1], 'shah-woods.net': [1], 'fischer-harrison.com': [1], 'meyers-powers.biz': [1], 'rich.com': [1], 'shepard.com': [1], 'campos.info': [1], 'cortez-allen.com': [1], 'calhoun-garcia.com': [1], 'davis-carter.com': [1], 'munoz-fowler.com': [1], 'smith-cortez.com': [1], 'woods-mitchell.com': [1], 'fletcher.info': [1], 'monroe.com': [1], 'tyler-jarvis.com': [1], 'davis-rios.biz': [1], 'zavala-glenn.com': [1], 'lee-burke.org': [1], 'farrell-francis.net': [1], 'shaw-griffin.net': [1], 'cox.biz': [1], 'price.net': [1], 'thompson-garcia.org': [1], 'edwards-morales.biz': [1], 'braun.com': [1], 'welch-walsh.com': [1], 'carroll-hensley.net': [1], 'ramos.net': [1], 'knight.net': [1], 'riggs.net': [1], 'greer-vasquez.info': [1], 'anderson-davidson.com': [1], 'griffin-rogers.biz': [1], 'munoz.biz': [1], 'young-morgan.com': [1], 'sawyer.com': [1], 'randall-jacobson.info': [1], 'stevenson-west.com': [1], 'avery-turner.com': [1], 'ford-webb.com': [1], 'knox.com': [1], 'wilkerson.org': [1], 'jackson-bauer.info': [1], 'shaw.biz': [1], 'smith-miller.org': [1], 'gill-molina.com': [1], 'erickson.biz': [1], 'thomas-hodges.net': [1], 'mcconnell-gaines.com': [1], 'austin-aguilar.org': [1], 'nguyen-snow.com': [1], 'barnett.org': [1], 'johnson-cole.com': [1], 'jones-rogers.com': [1], 'hall-harris.biz': [1], 'meyers.com': [1], 'fuentes-grant.com': [1], 'bird.com': [1], 'richard.com': [1], 'buchanan-brown.com': [1], 'cook-coffey.com': [1], 'orr.org': [1], 'kent-brown.info': [1], 'maxwell.com': [1], 'gutierrez-barber.com': [1], 'saunders-mahoney.info': [1], 'short.org': [1], 'gould.com': [1], 'hess-mccormick.com': [1], 'marshall.org': [1], 'armstrong.org': [1], 'brennan.com': [1], 'howell-reed.info': [1], 'olson-henderson.org': [1], 'mason-wilson.com': [1], 'french-pittman.org': [1], 'lee-hicks.net': [1], 'beck.biz': [1], 'ramirez-watson.org': [1], 'mccann.net': [1], 'mills-oliver.com': [1], 'martinez-mendoza.com': [1], 'ramsey.org': [1], 'townsend.org': [1], 'frye.com': [1], 'walters.com': [1], 'graves-hunter.com': [1], 'morales.org': [1], 'jordan-webster.com': [1], 'harmon.com': [1], 'dixon.com': [1], 'sellers.net': [1], 'lutz-silva.net': [1], 'jones-ferguson.com': [1], 'craig-freeman.com': [1], 'diaz-johnson.com': [1], 'hines.com': [1], 'hudson-thomas.biz': [1], 'miller-adams.net': [1], 'cannon.com': [1], 'green-matthews.com': [1], 'bartlett.info': [1], 'quinn-brown.com': [1], 'hart-daniels.com': [1], 'smith-stone.net': [1], 'allen-bentley.com': [1], 'martin-phillips.com': [1], 'webb.biz': [1], 'payne-morris.com': [1], 'lewis-lewis.com': [1], 'alexander-smith.info': [1], 'sanchez-mack.com': [1], 'palmer-henry.com': [1], 'christensen.com': [1], 'marsh-rosales.com': [1], 'ross-maldonado.biz': [1], 'english.org': [1], 'cruz.org': [1], 'perez.org': [1], 'frazier-zimmerman.net': [1], 'miles-clark.com': [1], 'thomas-walsh.com': [1], 'jackson-smith.com': [1], 'garcia.info': [1], 'pena-wong.com': [1], 'sanders-romero.com': [1], 'vega.net': [1], 'foster-hoffman.com': [1], 'jimenez.info': [1], 'arnold.biz': [1], 'harvey.net': [1], 'wilkins.info': [1], 'acosta.biz': [1], 'chavez.info': [1], 'greer-higgins.com': [1], 'williams-roberts.com': [1], 'robbins-hughes.com': [1], 'pierce-douglas.com': [1], 'guerrero-bradley.info': [1], 'rowland.biz': [1], 'short-knight.biz': [1], 'burgess-hall.com': [1], 'perez-herman.org': [1], 'decker.info': [1], 'johnson-frazier.com': [1], 'hicks-james.com': [1], 'bartlett.com': [1], 'barton.info': [1], 'proctor.com': [1], 'day-ballard.org': [1], 'skinner.com': [1], 'miller-mack.com': [1], 'riley.net': [1], 'luna-james.org': [1], 'mann.info': [1], 'murphy-knight.com': [1], 'harrell.com': [1], 'mckee.info': [1], 'dalton.info': [1], 'castillo.com': [1], 'richardson-hanson.com': [1], 'lane-reed.com': [1], 'johnson-calhoun.com': [1], 'brewer.org': [1], 'robinson-alvarez.info': [1], 'nash-pearson.com': [1], 'williams-flores.org': [1], 'bryan-smith.com': [1], 'herring.info': [1], 'gardner-chandler.com': [1], 'dennis.org': [1], 'francis-james.biz': [1], 'graves-fox.com': [1], 'craig.org': [1], 'johnson-gonzalez.com': [1], 'ross-garrett.info': [1], 'cook-coleman.info': [1], 'haynes-matthews.info': [1], 'banks.com': [1], 'cummings-thomas.com': [1], 'gilbert.info': [1], 'bradshaw-skinner.com': [1], 'garrett-crawford.net': [1], 'daniel.net': [1], 'porter-smith.info': [1], 'valencia.net': [1], 'warner.org': [1], 'roman.net': [1], 'kirby-stewart.org': [1], 'rodriguez-welch.com': [1], 'vasquez-luna.com': [1], 'schwartz.com': [1], 'novak.biz': [1], 'sherman.biz': [1], 'wise-liu.com': [1], 'wade-garner.com': [1]}\n"
     ]
    }
   ],
   "source": [
    "e = ecom['Email']\n",
    "em = {}\n",
    "def  unique_email(email):\n",
    "    if email in em:\n",
    "#         print(email)\n",
    "        v = em[email][0] + 1\n",
    "        em[email] = [v]\n",
    "    else:\n",
    "        em[email] = [1]\n",
    "    \n",
    "for each in e:\n",
    "    s = each.split(\"@\")[-1]\n",
    "    unique_email(s)\n",
    "\n",
    "print(em)\n",
    "ex = pd.DataFrame.from_dict(em)\n",
    "# ex.nunique().head(5)"
   ]
  },
  {
   "cell_type": "markdown",
   "metadata": {},
   "source": [
    "# Great Job!"
   ]
  }
 ],
 "metadata": {
  "kernelspec": {
   "display_name": "Python 3",
   "language": "python",
   "name": "python3"
  },
  "language_info": {
   "codemirror_mode": {
    "name": "ipython",
    "version": 3
   },
   "file_extension": ".py",
   "mimetype": "text/x-python",
   "name": "python",
   "nbconvert_exporter": "python",
   "pygments_lexer": "ipython3",
   "version": "3.7.4"
  }
 },
 "nbformat": 4,
 "nbformat_minor": 1
}
