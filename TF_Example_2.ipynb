{
 "cells": [
  {
   "cell_type": "code",
   "execution_count": 1,
   "metadata": {
    "colab": {
     "base_uri": "https://localhost:8080/",
     "height": 70
    },
    "colab_type": "code",
    "id": "dcTq-DNCsI1j",
    "outputId": "41e4c7b8-c351-4ae7-8e4d-971c15086185"
   },
   "outputs": [
    {
     "name": "stderr",
     "output_type": "stream",
     "text": [
      "/usr/local/lib/python3.6/dist-packages/statsmodels/tools/_testing.py:19: FutureWarning: pandas.util.testing is deprecated. Use the functions in the public API at pandas.testing instead.\n",
      "  import pandas.util.testing as tm\n"
     ]
    }
   ],
   "source": [
    "import pandas as pd\n",
    "import seaborn as sns\n",
    "import numpy as np\n",
    "import matplotlib.pyplot as plt\n",
    "%matplotlib inline"
   ]
  },
  {
   "cell_type": "code",
   "execution_count": 4,
   "metadata": {
    "colab": {
     "base_uri": "https://localhost:8080/",
     "height": 73,
     "resources": {
      "http://localhost:8080/nbextensions/google.colab/files.js": {
       "data": "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",
       "headers": [
        [
         "content-type",
         "application/javascript"
        ]
       ],
       "ok": true,
       "status": 200,
       "status_text": ""
      }
     }
    },
    "colab_type": "code",
    "id": "cEltlU1HsPlD",
    "outputId": "536681b7-329d-4594-b0bf-e049c6a2da2f"
   },
   "outputs": [
    {
     "data": {
      "text/html": [
       "\n",
       "     <input type=\"file\" id=\"files-ee6d548b-82bb-4d57-aed2-4b70777c1557\" name=\"files[]\" multiple disabled\n",
       "        style=\"border:none\" />\n",
       "     <output id=\"result-ee6d548b-82bb-4d57-aed2-4b70777c1557\">\n",
       "      Upload widget is only available when the cell has been executed in the\n",
       "      current browser session. Please rerun this cell to enable.\n",
       "      </output>\n",
       "      <script src=\"/nbextensions/google.colab/files.js\"></script> "
      ],
      "text/plain": [
       "<IPython.core.display.HTML object>"
      ]
     },
     "metadata": {
      "tags": []
     },
     "output_type": "display_data"
    },
    {
     "name": "stdout",
     "output_type": "stream",
     "text": [
      "Saving fake_reg.csv to fake_reg.csv\n"
     ]
    }
   ],
   "source": [
    "from google.colab import files\n",
    "uploaded = files.upload()"
   ]
  },
  {
   "cell_type": "code",
   "execution_count": 6,
   "metadata": {
    "colab": {},
    "colab_type": "code",
    "id": "Qz69TPxDsiVv"
   },
   "outputs": [],
   "source": [
    "df = pd.read_csv('fake_reg.csv')"
   ]
  },
  {
   "cell_type": "code",
   "execution_count": 7,
   "metadata": {
    "colab": {
     "base_uri": "https://localhost:8080/",
     "height": 195
    },
    "colab_type": "code",
    "id": "hb88KGEUtf3e",
    "outputId": "4de82723-e027-4cf7-f381-c6577f968dc7"
   },
   "outputs": [
    {
     "data": {
      "text/html": [
       "<div>\n",
       "<style scoped>\n",
       "    .dataframe tbody tr th:only-of-type {\n",
       "        vertical-align: middle;\n",
       "    }\n",
       "\n",
       "    .dataframe tbody tr th {\n",
       "        vertical-align: top;\n",
       "    }\n",
       "\n",
       "    .dataframe thead th {\n",
       "        text-align: right;\n",
       "    }\n",
       "</style>\n",
       "<table border=\"1\" class=\"dataframe\">\n",
       "  <thead>\n",
       "    <tr style=\"text-align: right;\">\n",
       "      <th></th>\n",
       "      <th>price</th>\n",
       "      <th>feature1</th>\n",
       "      <th>feature2</th>\n",
       "    </tr>\n",
       "  </thead>\n",
       "  <tbody>\n",
       "    <tr>\n",
       "      <th>0</th>\n",
       "      <td>461.527929</td>\n",
       "      <td>999.787558</td>\n",
       "      <td>999.766096</td>\n",
       "    </tr>\n",
       "    <tr>\n",
       "      <th>1</th>\n",
       "      <td>548.130011</td>\n",
       "      <td>998.861615</td>\n",
       "      <td>1001.042403</td>\n",
       "    </tr>\n",
       "    <tr>\n",
       "      <th>2</th>\n",
       "      <td>410.297162</td>\n",
       "      <td>1000.070267</td>\n",
       "      <td>998.844015</td>\n",
       "    </tr>\n",
       "    <tr>\n",
       "      <th>3</th>\n",
       "      <td>540.382220</td>\n",
       "      <td>999.952251</td>\n",
       "      <td>1000.440940</td>\n",
       "    </tr>\n",
       "    <tr>\n",
       "      <th>4</th>\n",
       "      <td>546.024553</td>\n",
       "      <td>1000.446011</td>\n",
       "      <td>1000.338531</td>\n",
       "    </tr>\n",
       "  </tbody>\n",
       "</table>\n",
       "</div>"
      ],
      "text/plain": [
       "        price     feature1     feature2\n",
       "0  461.527929   999.787558   999.766096\n",
       "1  548.130011   998.861615  1001.042403\n",
       "2  410.297162  1000.070267   998.844015\n",
       "3  540.382220   999.952251  1000.440940\n",
       "4  546.024553  1000.446011  1000.338531"
      ]
     },
     "execution_count": 7,
     "metadata": {
      "tags": []
     },
     "output_type": "execute_result"
    }
   ],
   "source": [
    "df.head()"
   ]
  },
  {
   "cell_type": "code",
   "execution_count": 8,
   "metadata": {
    "colab": {},
    "colab_type": "code",
    "id": "wD3bMD80truN"
   },
   "outputs": [],
   "source": [
    "from sklearn.model_selection import train_test_split"
   ]
  },
  {
   "cell_type": "code",
   "execution_count": 24,
   "metadata": {
    "colab": {},
    "colab_type": "code",
    "id": "4qMlx1MDt-nl"
   },
   "outputs": [],
   "source": [
    "x = df[['feature1', 'feature2']].values"
   ]
  },
  {
   "cell_type": "code",
   "execution_count": 25,
   "metadata": {
    "colab": {},
    "colab_type": "code",
    "id": "8cuWs336uEkq"
   },
   "outputs": [],
   "source": [
    "y = df['price'].values"
   ]
  },
  {
   "cell_type": "code",
   "execution_count": 28,
   "metadata": {
    "colab": {},
    "colab_type": "code",
    "id": "K9tRo8qwuGuL"
   },
   "outputs": [],
   "source": [
    "x_train, x_test, y_train, y_test = train_test_split(x, y, test_size =0.3, random_state = 42)"
   ]
  },
  {
   "cell_type": "code",
   "execution_count": 29,
   "metadata": {
    "colab": {
     "base_uri": "https://localhost:8080/",
     "height": 34
    },
    "colab_type": "code",
    "id": "uxt5pDOgxgXL",
    "outputId": "4670668b-d199-4106-b66e-6dc1e8a47126"
   },
   "outputs": [
    {
     "data": {
      "text/plain": [
       "(300, 2)"
      ]
     },
     "execution_count": 29,
     "metadata": {
      "tags": []
     },
     "output_type": "execute_result"
    }
   ],
   "source": [
    "x_test.shape"
   ]
  },
  {
   "cell_type": "code",
   "execution_count": 30,
   "metadata": {
    "colab": {},
    "colab_type": "code",
    "id": "Mtw9E1lQw5Cz"
   },
   "outputs": [],
   "source": [
    "from sklearn.preprocessing import MinMaxScaler\n",
    "scaler = MinMaxScaler()\n",
    "scaler.fit(x_train)\n",
    "x_train = scaler.transform(x_train)\n",
    "x_test = scaler.transform(x_test)"
   ]
  },
  {
   "cell_type": "code",
   "execution_count": null,
   "metadata": {
    "colab": {},
    "colab_type": "code",
    "id": "fh_T5IjVyhnW"
   },
   "outputs": [],
   "source": [
    "# Create Neural Network"
   ]
  },
  {
   "cell_type": "code",
   "execution_count": 12,
   "metadata": {
    "colab": {},
    "colab_type": "code",
    "id": "CaOw3Eo-uRCr"
   },
   "outputs": [],
   "source": [
    "from tensorflow.keras.models import Sequential\n",
    "from tensorflow.keras.layers import Dense"
   ]
  },
  {
   "cell_type": "code",
   "execution_count": 14,
   "metadata": {
    "colab": {},
    "colab_type": "code",
    "id": "GXXK3UZ4uiOy"
   },
   "outputs": [],
   "source": [
    "# model = Sequential([Dense(4, activation = 'relu'), Dense(2, activa#tion ='relu'),\n",
    "                    Dense(1)])"
   ]
  },
  {
   "cell_type": "code",
   "execution_count": 19,
   "metadata": {
    "colab": {},
    "colab_type": "code",
    "id": "zQPS7dBCvEME"
   },
   "outputs": [],
   "source": [
    "model = Sequential()\n",
    "model.add(Dense(4, activation = 'relu'))\n",
    "model.add(Dense(4, activation = 'relu'))\n",
    "model.add(Dense(4, activation = 'relu'))\n",
    "model.add(Dense(1)) # output layer\n",
    "model.compile(optimizer='rmsprop', loss='mse')"
   ]
  },
  {
   "cell_type": "code",
   "execution_count": 31,
   "metadata": {
    "colab": {
     "base_uri": "https://localhost:8080/",
     "height": 1000
    },
    "colab_type": "code",
    "id": "lpDE61yzvXd_",
    "outputId": "2cc52155-4104-4254-8ee0-e51fb7072556"
   },
   "outputs": [
    {
     "name": "stdout",
     "output_type": "stream",
     "text": [
      "Epoch 1/250\n",
      "22/22 - 0s - loss: 256736.9219\n",
      "Epoch 2/250\n",
      "22/22 - 0s - loss: 256591.6562\n",
      "Epoch 3/250\n",
      "22/22 - 0s - loss: 256380.7969\n",
      "Epoch 4/250\n",
      "22/22 - 0s - loss: 256123.0625\n",
      "Epoch 5/250\n",
      "22/22 - 0s - loss: 255755.2500\n",
      "Epoch 6/250\n",
      "22/22 - 0s - loss: 255337.0938\n",
      "Epoch 7/250\n",
      "22/22 - 0s - loss: 254861.7344\n",
      "Epoch 8/250\n",
      "22/22 - 0s - loss: 254320.3125\n",
      "Epoch 9/250\n",
      "22/22 - 0s - loss: 253709.3750\n",
      "Epoch 10/250\n",
      "22/22 - 0s - loss: 253029.0781\n",
      "Epoch 11/250\n",
      "22/22 - 0s - loss: 252279.8438\n",
      "Epoch 12/250\n",
      "22/22 - 0s - loss: 251457.4688\n",
      "Epoch 13/250\n",
      "22/22 - 0s - loss: 250561.8906\n",
      "Epoch 14/250\n",
      "22/22 - 0s - loss: 249596.9375\n",
      "Epoch 15/250\n",
      "22/22 - 0s - loss: 248567.8594\n",
      "Epoch 16/250\n",
      "22/22 - 0s - loss: 247459.8125\n",
      "Epoch 17/250\n",
      "22/22 - 0s - loss: 246257.0000\n",
      "Epoch 18/250\n",
      "22/22 - 0s - loss: 244959.5156\n",
      "Epoch 19/250\n",
      "22/22 - 0s - loss: 243557.6406\n",
      "Epoch 20/250\n",
      "22/22 - 0s - loss: 242030.9531\n",
      "Epoch 21/250\n",
      "22/22 - 0s - loss: 240389.1875\n",
      "Epoch 22/250\n",
      "22/22 - 0s - loss: 238606.2812\n",
      "Epoch 23/250\n",
      "22/22 - 0s - loss: 236693.4688\n",
      "Epoch 24/250\n",
      "22/22 - 0s - loss: 234647.0469\n",
      "Epoch 25/250\n",
      "22/22 - 0s - loss: 232437.6719\n",
      "Epoch 26/250\n",
      "22/22 - 0s - loss: 230088.6094\n",
      "Epoch 27/250\n",
      "22/22 - 0s - loss: 227572.1094\n",
      "Epoch 28/250\n",
      "22/22 - 0s - loss: 224890.9688\n",
      "Epoch 29/250\n",
      "22/22 - 0s - loss: 222023.2656\n",
      "Epoch 30/250\n",
      "22/22 - 0s - loss: 218985.7344\n",
      "Epoch 31/250\n",
      "22/22 - 0s - loss: 215764.3438\n",
      "Epoch 32/250\n",
      "22/22 - 0s - loss: 212304.2812\n",
      "Epoch 33/250\n",
      "22/22 - 0s - loss: 208634.0312\n",
      "Epoch 34/250\n",
      "22/22 - 0s - loss: 204754.7500\n",
      "Epoch 35/250\n",
      "22/22 - 0s - loss: 200658.8750\n",
      "Epoch 36/250\n",
      "22/22 - 0s - loss: 196301.3281\n",
      "Epoch 37/250\n",
      "22/22 - 0s - loss: 191761.1406\n",
      "Epoch 38/250\n",
      "22/22 - 0s - loss: 186981.0312\n",
      "Epoch 39/250\n",
      "22/22 - 0s - loss: 181969.0156\n",
      "Epoch 40/250\n",
      "22/22 - 0s - loss: 176593.2500\n",
      "Epoch 41/250\n",
      "22/22 - 0s - loss: 170659.7500\n",
      "Epoch 42/250\n",
      "22/22 - 0s - loss: 164499.6406\n",
      "Epoch 43/250\n",
      "22/22 - 0s - loss: 158111.1250\n",
      "Epoch 44/250\n",
      "22/22 - 0s - loss: 151454.8750\n",
      "Epoch 45/250\n",
      "22/22 - 0s - loss: 144508.8125\n",
      "Epoch 46/250\n",
      "22/22 - 0s - loss: 137409.6875\n",
      "Epoch 47/250\n",
      "22/22 - 0s - loss: 130092.5469\n",
      "Epoch 48/250\n",
      "22/22 - 0s - loss: 122556.7109\n",
      "Epoch 49/250\n",
      "22/22 - 0s - loss: 114887.9531\n",
      "Epoch 50/250\n",
      "22/22 - 0s - loss: 107081.9688\n",
      "Epoch 51/250\n",
      "22/22 - 0s - loss: 99114.9141\n",
      "Epoch 52/250\n",
      "22/22 - 0s - loss: 91088.3516\n",
      "Epoch 53/250\n",
      "22/22 - 0s - loss: 83067.5156\n",
      "Epoch 54/250\n",
      "22/22 - 0s - loss: 75103.7734\n",
      "Epoch 55/250\n",
      "22/22 - 0s - loss: 67223.6484\n",
      "Epoch 56/250\n",
      "22/22 - 0s - loss: 59415.6406\n",
      "Epoch 57/250\n",
      "22/22 - 0s - loss: 51795.5820\n",
      "Epoch 58/250\n",
      "22/22 - 0s - loss: 44417.3867\n",
      "Epoch 59/250\n",
      "22/22 - 0s - loss: 37396.5977\n",
      "Epoch 60/250\n",
      "22/22 - 0s - loss: 30761.7891\n",
      "Epoch 61/250\n",
      "22/22 - 0s - loss: 24612.5391\n",
      "Epoch 62/250\n",
      "22/22 - 0s - loss: 19041.4238\n",
      "Epoch 63/250\n",
      "22/22 - 0s - loss: 14153.5947\n",
      "Epoch 64/250\n",
      "22/22 - 0s - loss: 10124.9424\n",
      "Epoch 65/250\n",
      "22/22 - 0s - loss: 6871.1265\n",
      "Epoch 66/250\n",
      "22/22 - 0s - loss: 4541.3916\n",
      "Epoch 67/250\n",
      "22/22 - 0s - loss: 3181.5688\n",
      "Epoch 68/250\n",
      "22/22 - 0s - loss: 2638.0564\n",
      "Epoch 69/250\n",
      "22/22 - 0s - loss: 2512.9639\n",
      "Epoch 70/250\n",
      "22/22 - 0s - loss: 2462.0415\n",
      "Epoch 71/250\n",
      "22/22 - 0s - loss: 2402.3010\n",
      "Epoch 72/250\n",
      "22/22 - 0s - loss: 2363.2468\n",
      "Epoch 73/250\n",
      "22/22 - 0s - loss: 2310.9470\n",
      "Epoch 74/250\n",
      "22/22 - 0s - loss: 2264.3108\n",
      "Epoch 75/250\n",
      "22/22 - 0s - loss: 2208.6240\n",
      "Epoch 76/250\n",
      "22/22 - 0s - loss: 2152.2900\n",
      "Epoch 77/250\n",
      "22/22 - 0s - loss: 2098.4644\n",
      "Epoch 78/250\n",
      "22/22 - 0s - loss: 2046.1698\n",
      "Epoch 79/250\n",
      "22/22 - 0s - loss: 1994.6996\n",
      "Epoch 80/250\n",
      "22/22 - 0s - loss: 1945.6667\n",
      "Epoch 81/250\n",
      "22/22 - 0s - loss: 1902.7043\n",
      "Epoch 82/250\n",
      "22/22 - 0s - loss: 1849.9653\n",
      "Epoch 83/250\n",
      "22/22 - 0s - loss: 1800.3768\n",
      "Epoch 84/250\n",
      "22/22 - 0s - loss: 1754.0891\n",
      "Epoch 85/250\n",
      "22/22 - 0s - loss: 1704.9529\n",
      "Epoch 86/250\n",
      "22/22 - 0s - loss: 1656.1129\n",
      "Epoch 87/250\n",
      "22/22 - 0s - loss: 1612.0601\n",
      "Epoch 88/250\n",
      "22/22 - 0s - loss: 1568.0236\n",
      "Epoch 89/250\n",
      "22/22 - 0s - loss: 1528.2561\n",
      "Epoch 90/250\n",
      "22/22 - 0s - loss: 1482.9834\n",
      "Epoch 91/250\n",
      "22/22 - 0s - loss: 1440.7982\n",
      "Epoch 92/250\n",
      "22/22 - 0s - loss: 1397.1134\n",
      "Epoch 93/250\n",
      "22/22 - 0s - loss: 1354.5675\n",
      "Epoch 94/250\n",
      "22/22 - 0s - loss: 1311.7196\n",
      "Epoch 95/250\n",
      "22/22 - 0s - loss: 1269.4399\n",
      "Epoch 96/250\n",
      "22/22 - 0s - loss: 1223.5601\n",
      "Epoch 97/250\n",
      "22/22 - 0s - loss: 1188.1234\n",
      "Epoch 98/250\n",
      "22/22 - 0s - loss: 1146.7241\n",
      "Epoch 99/250\n",
      "22/22 - 0s - loss: 1101.5717\n",
      "Epoch 100/250\n",
      "22/22 - 0s - loss: 1060.5673\n",
      "Epoch 101/250\n",
      "22/22 - 0s - loss: 1020.0316\n",
      "Epoch 102/250\n",
      "22/22 - 0s - loss: 976.8441\n",
      "Epoch 103/250\n",
      "22/22 - 0s - loss: 943.6445\n",
      "Epoch 104/250\n",
      "22/22 - 0s - loss: 909.6913\n",
      "Epoch 105/250\n",
      "22/22 - 0s - loss: 872.7406\n",
      "Epoch 106/250\n",
      "22/22 - 0s - loss: 835.8094\n",
      "Epoch 107/250\n",
      "22/22 - 0s - loss: 797.7902\n",
      "Epoch 108/250\n",
      "22/22 - 0s - loss: 762.3962\n",
      "Epoch 109/250\n",
      "22/22 - 0s - loss: 735.8207\n",
      "Epoch 110/250\n",
      "22/22 - 0s - loss: 701.8350\n",
      "Epoch 111/250\n",
      "22/22 - 0s - loss: 672.6317\n",
      "Epoch 112/250\n",
      "22/22 - 0s - loss: 643.1358\n",
      "Epoch 113/250\n",
      "22/22 - 0s - loss: 613.3239\n",
      "Epoch 114/250\n",
      "22/22 - 0s - loss: 580.3522\n",
      "Epoch 115/250\n",
      "22/22 - 0s - loss: 552.3887\n",
      "Epoch 116/250\n",
      "22/22 - 0s - loss: 525.6919\n",
      "Epoch 117/250\n",
      "22/22 - 0s - loss: 495.2879\n",
      "Epoch 118/250\n",
      "22/22 - 0s - loss: 464.6928\n",
      "Epoch 119/250\n",
      "22/22 - 0s - loss: 435.8642\n",
      "Epoch 120/250\n",
      "22/22 - 0s - loss: 411.4780\n",
      "Epoch 121/250\n",
      "22/22 - 0s - loss: 387.0197\n",
      "Epoch 122/250\n",
      "22/22 - 0s - loss: 363.2926\n",
      "Epoch 123/250\n",
      "22/22 - 0s - loss: 339.3401\n",
      "Epoch 124/250\n",
      "22/22 - 0s - loss: 317.0439\n",
      "Epoch 125/250\n",
      "22/22 - 0s - loss: 297.3676\n",
      "Epoch 126/250\n",
      "22/22 - 0s - loss: 280.2872\n",
      "Epoch 127/250\n",
      "22/22 - 0s - loss: 262.0576\n",
      "Epoch 128/250\n",
      "22/22 - 0s - loss: 242.0316\n",
      "Epoch 129/250\n",
      "22/22 - 0s - loss: 223.1815\n",
      "Epoch 130/250\n",
      "22/22 - 0s - loss: 205.2467\n",
      "Epoch 131/250\n",
      "22/22 - 0s - loss: 188.9056\n",
      "Epoch 132/250\n",
      "22/22 - 0s - loss: 174.1712\n",
      "Epoch 133/250\n",
      "22/22 - 0s - loss: 159.9338\n",
      "Epoch 134/250\n",
      "22/22 - 0s - loss: 146.0387\n",
      "Epoch 135/250\n",
      "22/22 - 0s - loss: 132.5871\n",
      "Epoch 136/250\n",
      "22/22 - 0s - loss: 120.3452\n",
      "Epoch 137/250\n",
      "22/22 - 0s - loss: 109.0768\n",
      "Epoch 138/250\n",
      "22/22 - 0s - loss: 98.7124\n",
      "Epoch 139/250\n",
      "22/22 - 0s - loss: 89.8466\n",
      "Epoch 140/250\n",
      "22/22 - 0s - loss: 81.3384\n",
      "Epoch 141/250\n",
      "22/22 - 0s - loss: 73.8651\n",
      "Epoch 142/250\n",
      "22/22 - 0s - loss: 67.7694\n",
      "Epoch 143/250\n",
      "22/22 - 0s - loss: 62.0134\n",
      "Epoch 144/250\n",
      "22/22 - 0s - loss: 55.9719\n",
      "Epoch 145/250\n",
      "22/22 - 0s - loss: 51.3545\n",
      "Epoch 146/250\n",
      "22/22 - 0s - loss: 46.4047\n",
      "Epoch 147/250\n",
      "22/22 - 0s - loss: 42.7482\n",
      "Epoch 148/250\n",
      "22/22 - 0s - loss: 39.2162\n",
      "Epoch 149/250\n",
      "22/22 - 0s - loss: 35.9317\n",
      "Epoch 150/250\n",
      "22/22 - 0s - loss: 34.2744\n",
      "Epoch 151/250\n",
      "22/22 - 0s - loss: 31.9708\n",
      "Epoch 152/250\n",
      "22/22 - 0s - loss: 30.2646\n",
      "Epoch 153/250\n",
      "22/22 - 0s - loss: 28.8715\n",
      "Epoch 154/250\n",
      "22/22 - 0s - loss: 28.4269\n",
      "Epoch 155/250\n",
      "22/22 - 0s - loss: 27.4434\n",
      "Epoch 156/250\n",
      "22/22 - 0s - loss: 26.8181\n",
      "Epoch 157/250\n",
      "22/22 - 0s - loss: 26.5376\n",
      "Epoch 158/250\n",
      "22/22 - 0s - loss: 25.8790\n",
      "Epoch 159/250\n",
      "22/22 - 0s - loss: 25.3427\n",
      "Epoch 160/250\n",
      "22/22 - 0s - loss: 25.5496\n",
      "Epoch 161/250\n",
      "22/22 - 0s - loss: 25.0511\n",
      "Epoch 162/250\n",
      "22/22 - 0s - loss: 25.2683\n",
      "Epoch 163/250\n",
      "22/22 - 0s - loss: 24.6167\n",
      "Epoch 164/250\n",
      "22/22 - 0s - loss: 24.3077\n",
      "Epoch 165/250\n",
      "22/22 - 0s - loss: 24.5639\n",
      "Epoch 166/250\n",
      "22/22 - 0s - loss: 24.5916\n",
      "Epoch 167/250\n",
      "22/22 - 0s - loss: 24.5122\n",
      "Epoch 168/250\n",
      "22/22 - 0s - loss: 24.5489\n",
      "Epoch 169/250\n",
      "22/22 - 0s - loss: 24.2929\n",
      "Epoch 170/250\n",
      "22/22 - 0s - loss: 24.6410\n",
      "Epoch 171/250\n",
      "22/22 - 0s - loss: 24.2706\n",
      "Epoch 172/250\n",
      "22/22 - 0s - loss: 24.4970\n",
      "Epoch 173/250\n",
      "22/22 - 0s - loss: 24.4432\n",
      "Epoch 174/250\n",
      "22/22 - 0s - loss: 24.4531\n",
      "Epoch 175/250\n",
      "22/22 - 0s - loss: 24.4209\n",
      "Epoch 176/250\n",
      "22/22 - 0s - loss: 25.3582\n",
      "Epoch 177/250\n",
      "22/22 - 0s - loss: 24.5291\n",
      "Epoch 178/250\n",
      "22/22 - 0s - loss: 24.4451\n",
      "Epoch 179/250\n",
      "22/22 - 0s - loss: 24.2295\n",
      "Epoch 180/250\n",
      "22/22 - 0s - loss: 24.4579\n",
      "Epoch 181/250\n",
      "22/22 - 0s - loss: 24.3890\n",
      "Epoch 182/250\n",
      "22/22 - 0s - loss: 24.5278\n",
      "Epoch 183/250\n",
      "22/22 - 0s - loss: 24.4687\n",
      "Epoch 184/250\n",
      "22/22 - 0s - loss: 24.9226\n",
      "Epoch 185/250\n",
      "22/22 - 0s - loss: 24.2247\n",
      "Epoch 186/250\n",
      "22/22 - 0s - loss: 24.6765\n",
      "Epoch 187/250\n",
      "22/22 - 0s - loss: 24.7009\n",
      "Epoch 188/250\n",
      "22/22 - 0s - loss: 24.1309\n",
      "Epoch 189/250\n",
      "22/22 - 0s - loss: 24.1814\n",
      "Epoch 190/250\n",
      "22/22 - 0s - loss: 24.8753\n",
      "Epoch 191/250\n",
      "22/22 - 0s - loss: 24.8481\n",
      "Epoch 192/250\n",
      "22/22 - 0s - loss: 24.3535\n",
      "Epoch 193/250\n",
      "22/22 - 0s - loss: 24.7664\n",
      "Epoch 194/250\n",
      "22/22 - 0s - loss: 24.9329\n",
      "Epoch 195/250\n",
      "22/22 - 0s - loss: 24.0292\n",
      "Epoch 196/250\n",
      "22/22 - 0s - loss: 24.6022\n",
      "Epoch 197/250\n",
      "22/22 - 0s - loss: 24.7497\n",
      "Epoch 198/250\n",
      "22/22 - 0s - loss: 24.6098\n",
      "Epoch 199/250\n",
      "22/22 - 0s - loss: 24.5344\n",
      "Epoch 200/250\n",
      "22/22 - 0s - loss: 24.7821\n",
      "Epoch 201/250\n",
      "22/22 - 0s - loss: 24.1400\n",
      "Epoch 202/250\n",
      "22/22 - 0s - loss: 24.7358\n",
      "Epoch 203/250\n",
      "22/22 - 0s - loss: 24.6877\n",
      "Epoch 204/250\n",
      "22/22 - 0s - loss: 24.0937\n",
      "Epoch 205/250\n",
      "22/22 - 0s - loss: 25.0959\n",
      "Epoch 206/250\n",
      "22/22 - 0s - loss: 24.7517\n",
      "Epoch 207/250\n",
      "22/22 - 0s - loss: 24.4633\n",
      "Epoch 208/250\n",
      "22/22 - 0s - loss: 24.5346\n",
      "Epoch 209/250\n",
      "22/22 - 0s - loss: 24.2176\n",
      "Epoch 210/250\n",
      "22/22 - 0s - loss: 24.6338\n",
      "Epoch 211/250\n",
      "22/22 - 0s - loss: 24.4622\n",
      "Epoch 212/250\n",
      "22/22 - 0s - loss: 24.5153\n",
      "Epoch 213/250\n",
      "22/22 - 0s - loss: 24.4889\n",
      "Epoch 214/250\n",
      "22/22 - 0s - loss: 24.5794\n",
      "Epoch 215/250\n",
      "22/22 - 0s - loss: 24.7140\n",
      "Epoch 216/250\n",
      "22/22 - 0s - loss: 24.7800\n",
      "Epoch 217/250\n",
      "22/22 - 0s - loss: 24.5718\n",
      "Epoch 218/250\n",
      "22/22 - 0s - loss: 24.8944\n",
      "Epoch 219/250\n",
      "22/22 - 0s - loss: 24.0898\n",
      "Epoch 220/250\n",
      "22/22 - 0s - loss: 24.7295\n",
      "Epoch 221/250\n",
      "22/22 - 0s - loss: 24.4536\n",
      "Epoch 222/250\n",
      "22/22 - 0s - loss: 24.9760\n",
      "Epoch 223/250\n",
      "22/22 - 0s - loss: 24.7479\n",
      "Epoch 224/250\n",
      "22/22 - 0s - loss: 24.5545\n",
      "Epoch 225/250\n",
      "22/22 - 0s - loss: 24.7120\n",
      "Epoch 226/250\n",
      "22/22 - 0s - loss: 24.2962\n",
      "Epoch 227/250\n",
      "22/22 - 0s - loss: 24.8569\n",
      "Epoch 228/250\n",
      "22/22 - 0s - loss: 24.3021\n",
      "Epoch 229/250\n",
      "22/22 - 0s - loss: 24.4993\n",
      "Epoch 230/250\n",
      "22/22 - 0s - loss: 24.7581\n",
      "Epoch 231/250\n",
      "22/22 - 0s - loss: 24.1737\n",
      "Epoch 232/250\n",
      "22/22 - 0s - loss: 24.5010\n",
      "Epoch 233/250\n",
      "22/22 - 0s - loss: 24.7438\n",
      "Epoch 234/250\n",
      "22/22 - 0s - loss: 24.2198\n",
      "Epoch 235/250\n",
      "22/22 - 0s - loss: 24.7027\n",
      "Epoch 236/250\n",
      "22/22 - 0s - loss: 24.5066\n",
      "Epoch 237/250\n",
      "22/22 - 0s - loss: 24.0414\n",
      "Epoch 238/250\n",
      "22/22 - 0s - loss: 24.4898\n",
      "Epoch 239/250\n",
      "22/22 - 0s - loss: 25.0206\n",
      "Epoch 240/250\n",
      "22/22 - 0s - loss: 24.2238\n",
      "Epoch 241/250\n",
      "22/22 - 0s - loss: 24.2203\n",
      "Epoch 242/250\n",
      "22/22 - 0s - loss: 24.6452\n",
      "Epoch 243/250\n",
      "22/22 - 0s - loss: 24.4375\n",
      "Epoch 244/250\n",
      "22/22 - 0s - loss: 24.7260\n",
      "Epoch 245/250\n",
      "22/22 - 0s - loss: 24.3400\n",
      "Epoch 246/250\n",
      "22/22 - 0s - loss: 24.7766\n",
      "Epoch 247/250\n",
      "22/22 - 0s - loss: 24.3594\n",
      "Epoch 248/250\n",
      "22/22 - 0s - loss: 24.7094\n",
      "Epoch 249/250\n",
      "22/22 - 0s - loss: 24.5366\n",
      "Epoch 250/250\n",
      "22/22 - 0s - loss: 24.3144\n"
     ]
    },
    {
     "data": {
      "text/plain": [
       "<tensorflow.python.keras.callbacks.History at 0x7f98a07aac88>"
      ]
     },
     "execution_count": 31,
     "metadata": {
      "tags": []
     },
     "output_type": "execute_result"
    }
   ],
   "source": [
    "model.fit(x = x_train, y = y_train, epochs=250, verbose = 1)"
   ]
  },
  {
   "cell_type": "code",
   "execution_count": 32,
   "metadata": {
    "colab": {},
    "colab_type": "code",
    "id": "Bhm3vlhjwxUy"
   },
   "outputs": [],
   "source": [
    "loss_df = pd.DataFrame(model.history.history)"
   ]
  },
  {
   "cell_type": "code",
   "execution_count": 33,
   "metadata": {
    "colab": {
     "base_uri": "https://localhost:8080/",
     "height": 282
    },
    "colab_type": "code",
    "id": "rrxD3fn4yAQo",
    "outputId": "1af5be25-84cb-414f-af84-8cfce4fc54b4"
   },
   "outputs": [
    {
     "data": {
      "text/plain": [
       "<matplotlib.axes._subplots.AxesSubplot at 0x7f989e0539b0>"
      ]
     },
     "execution_count": 33,
     "metadata": {
      "tags": []
     },
     "output_type": "execute_result"
    },
    {
     "data": {
      "image/png": "[encoded data removed]",
      "text/plain": [
       "<Figure size 432x288 with 1 Axes>"
      ]
     },
     "metadata": {
      "needs_background": "light",
      "tags": []
     },
     "output_type": "display_data"
    }
   ],
   "source": [
    "loss_df.plot()"
   ]
  },
  {
   "cell_type": "code",
   "execution_count": 34,
   "metadata": {
    "colab": {},
    "colab_type": "code",
    "id": "_Tp7uMp1yB77"
   },
   "outputs": [],
   "source": [
    "# Evaluate Model"
   ]
  },
  {
   "cell_type": "code",
   "execution_count": 35,
   "metadata": {
    "colab": {
     "base_uri": "https://localhost:8080/",
     "height": 34
    },
    "colab_type": "code",
    "id": "ofBth02CyndZ",
    "outputId": "2e7cc984-10c8-428e-bfc3-04ec698a852c"
   },
   "outputs": [
    {
     "data": {
      "text/plain": [
       "25.032339096069336"
      ]
     },
     "execution_count": 35,
     "metadata": {
      "tags": []
     },
     "output_type": "execute_result"
    }
   ],
   "source": [
    "model.evaluate(x_test, y_test, verbose = 0)  # it returns loss in particular metric i.e 25 mse"
   ]
  },
  {
   "cell_type": "code",
   "execution_count": 36,
   "metadata": {
    "colab": {
     "base_uri": "https://localhost:8080/",
     "height": 34
    },
    "colab_type": "code",
    "id": "x7eXXqFaytWe",
    "outputId": "86fbd120-74d4-441c-ec39-06a939f5b755"
   },
   "outputs": [
    {
     "data": {
      "text/plain": [
       "23.74994468688965"
      ]
     },
     "execution_count": 36,
     "metadata": {
      "tags": []
     },
     "output_type": "execute_result"
    }
   ],
   "source": [
    "model.evaluate(x_train, y_train, verbose = 0)"
   ]
  },
  {
   "cell_type": "code",
   "execution_count": 37,
   "metadata": {
    "colab": {},
    "colab_type": "code",
    "id": "VNpgK4-Xy_Mr"
   },
   "outputs": [],
   "source": [
    "test_pred = model.predict(x_test)"
   ]
  },
  {
   "cell_type": "code",
   "execution_count": 38,
   "metadata": {
    "colab": {
     "base_uri": "https://localhost:8080/",
     "height": 1000
    },
    "colab_type": "code",
    "id": "sJovcSdwzEWM",
    "outputId": "39400b2b-f832-42ec-a8c2-c9ed261e832d"
   },
   "outputs": [
    {
     "data": {
      "text/plain": [
       "array([[405.37332],\n",
       "       [623.8188 ],\n",
       "       [592.3854 ],\n",
       "       [572.4535 ],\n",
       "       [366.65424],\n",
       "       [579.41705],\n",
       "       [515.2237 ],\n",
       "       [459.244  ],\n",
       "       [549.4521 ],\n",
       "       [447.64667],\n",
       "       [612.05475],\n",
       "       [549.1693 ],\n",
       "       [419.1951 ],\n",
       "       [408.954  ],\n",
       "       [651.55774],\n",
       "       [437.41486],\n",
       "       [508.6378 ],\n",
       "       [660.23395],\n",
       "       [662.8938 ],\n",
       "       [565.76935],\n",
       "       [334.24185],\n",
       "       [444.9523 ],\n",
       "       [382.5855 ],\n",
       "       [378.81546],\n",
       "       [566.82275],\n",
       "       [610.8541 ],\n",
       "       [532.58685],\n",
       "       [427.96536],\n",
       "       [655.74567],\n",
       "       [414.17758],\n",
       "       [442.75784],\n",
       "       [485.2834 ],\n",
       "       [438.52875],\n",
       "       [682.175  ],\n",
       "       [424.8665 ],\n",
       "       [417.7764 ],\n",
       "       [502.10995],\n",
       "       [550.6903 ],\n",
       "       [509.9023 ],\n",
       "       [395.42145],\n",
       "       [618.86884],\n",
       "       [416.72574],\n",
       "       [604.7139 ],\n",
       "       [446.08835],\n",
       "       [502.1595 ],\n",
       "       [581.9702 ],\n",
       "       [669.33057],\n",
       "       [490.56747],\n",
       "       [318.59027],\n",
       "       [485.58197],\n",
       "       [517.4507 ],\n",
       "       [381.85992],\n",
       "       [542.1238 ],\n",
       "       [408.68225],\n",
       "       [641.819  ],\n",
       "       [491.23615],\n",
       "       [628.2198 ],\n",
       "       [627.29333],\n",
       "       [447.1936 ],\n",
       "       [484.85464],\n",
       "       [491.29446],\n",
       "       [474.69003],\n",
       "       [683.12415],\n",
       "       [403.3682 ],\n",
       "       [701.48724],\n",
       "       [586.6439 ],\n",
       "       [583.36743],\n",
       "       [538.0641 ],\n",
       "       [484.73178],\n",
       "       [516.74164],\n",
       "       [361.2712 ],\n",
       "       [540.96246],\n",
       "       [570.86053],\n",
       "       [528.6629 ],\n",
       "       [453.8522 ],\n",
       "       [531.34283],\n",
       "       [507.39188],\n",
       "       [443.45108],\n",
       "       [543.57574],\n",
       "       [641.05725],\n",
       "       [466.14392],\n",
       "       [567.493  ],\n",
       "       [691.11475],\n",
       "       [458.86716],\n",
       "       [709.2659 ],\n",
       "       [472.84314],\n",
       "       [403.36926],\n",
       "       [585.3505 ],\n",
       "       [436.87762],\n",
       "       [489.12802],\n",
       "       [617.3157 ],\n",
       "       [439.59778],\n",
       "       [455.456  ],\n",
       "       [435.37143],\n",
       "       [507.08575],\n",
       "       [608.7151 ],\n",
       "       [321.64005],\n",
       "       [436.38757],\n",
       "       [536.54913],\n",
       "       [518.8202 ],\n",
       "       [605.3139 ],\n",
       "       [525.6408 ],\n",
       "       [334.16205],\n",
       "       [576.41046],\n",
       "       [431.88763],\n",
       "       [562.7905 ],\n",
       "       [513.5908 ],\n",
       "       [391.15692],\n",
       "       [566.47754],\n",
       "       [454.9364 ],\n",
       "       [448.60983],\n",
       "       [641.2609 ],\n",
       "       [524.57446],\n",
       "       [550.9093 ],\n",
       "       [417.79205],\n",
       "       [478.89383],\n",
       "       [586.77374],\n",
       "       [667.69604],\n",
       "       [700.8119 ],\n",
       "       [659.703  ],\n",
       "       [560.79315],\n",
       "       [503.3538 ],\n",
       "       [390.42554],\n",
       "       [281.31552],\n",
       "       [479.77124],\n",
       "       [616.65405],\n",
       "       [373.3774 ],\n",
       "       [512.4463 ],\n",
       "       [511.20627],\n",
       "       [493.65152],\n",
       "       [480.616  ],\n",
       "       [423.89093],\n",
       "       [493.62445],\n",
       "       [471.62033],\n",
       "       [600.717  ],\n",
       "       [573.8285 ],\n",
       "       [415.05734],\n",
       "       [630.9401 ],\n",
       "       [466.51822],\n",
       "       [564.5726 ],\n",
       "       [405.77542],\n",
       "       [532.3783 ],\n",
       "       [572.8758 ],\n",
       "       [357.12082],\n",
       "       [550.05396],\n",
       "       [603.62415],\n",
       "       [384.37085],\n",
       "       [542.60266],\n",
       "       [562.82654],\n",
       "       [453.02087],\n",
       "       [632.4997 ],\n",
       "       [372.30798],\n",
       "       [474.40204],\n",
       "       [529.06586],\n",
       "       [372.3612 ],\n",
       "       [461.37424],\n",
       "       [436.42627],\n",
       "       [498.66843],\n",
       "       [346.15338],\n",
       "       [395.3737 ],\n",
       "       [604.8542 ],\n",
       "       [506.83713],\n",
       "       [468.7605 ],\n",
       "       [490.5364 ],\n",
       "       [535.4923 ],\n",
       "       [344.53174],\n",
       "       [512.51904],\n",
       "       [250.75385],\n",
       "       [504.26718],\n",
       "       [541.3099 ],\n",
       "       [489.536  ],\n",
       "       [471.2438 ],\n",
       "       [392.62704],\n",
       "       [416.3595 ],\n",
       "       [549.7965 ],\n",
       "       [475.94406],\n",
       "       [580.1932 ],\n",
       "       [489.93393],\n",
       "       [601.2477 ],\n",
       "       [547.21844],\n",
       "       [542.1794 ],\n",
       "       [500.7591 ],\n",
       "       [646.1443 ],\n",
       "       [560.6472 ],\n",
       "       [578.1916 ],\n",
       "       [444.26096],\n",
       "       [415.62213],\n",
       "       [420.13657],\n",
       "       [569.36584],\n",
       "       [609.2857 ],\n",
       "       [437.88004],\n",
       "       [488.13776],\n",
       "       [588.00415],\n",
       "       [525.57886],\n",
       "       [357.4091 ],\n",
       "       [645.7245 ],\n",
       "       [528.2336 ],\n",
       "       [337.24054],\n",
       "       [492.861  ],\n",
       "       [410.25372],\n",
       "       [606.876  ],\n",
       "       [346.5744 ],\n",
       "       [522.61847],\n",
       "       [404.78116],\n",
       "       [258.36514],\n",
       "       [520.093  ],\n",
       "       [340.93393],\n",
       "       [362.09387],\n",
       "       [576.6693 ],\n",
       "       [416.7794 ],\n",
       "       [551.2081 ],\n",
       "       [521.2782 ],\n",
       "       [510.9368 ],\n",
       "       [324.76956],\n",
       "       [404.23538],\n",
       "       [602.6672 ],\n",
       "       [618.1417 ],\n",
       "       [603.5344 ],\n",
       "       [566.5325 ],\n",
       "       [473.5761 ],\n",
       "       [460.50974],\n",
       "       [508.61557],\n",
       "       [446.03326],\n",
       "       [511.5052 ],\n",
       "       [502.55176],\n",
       "       [400.22574],\n",
       "       [605.80133],\n",
       "       [258.09125],\n",
       "       [628.54803],\n",
       "       [589.3996 ],\n",
       "       [327.16916],\n",
       "       [479.70325],\n",
       "       [595.6105 ],\n",
       "       [378.46277],\n",
       "       [460.29382],\n",
       "       [325.02975],\n",
       "       [518.8901 ],\n",
       "       [409.7169 ],\n",
       "       [556.47894],\n",
       "       [642.1985 ],\n",
       "       [537.0331 ],\n",
       "       [503.35913],\n",
       "       [635.3416 ],\n",
       "       [515.43384],\n",
       "       [531.9136 ],\n",
       "       [519.01447],\n",
       "       [457.57867],\n",
       "       [506.01352],\n",
       "       [461.2482 ],\n",
       "       [591.9667 ],\n",
       "       [466.05527],\n",
       "       [427.2882 ],\n",
       "       [541.8029 ],\n",
       "       [493.97122],\n",
       "       [679.9966 ],\n",
       "       [372.8265 ],\n",
       "       [551.83466],\n",
       "       [578.2139 ],\n",
       "       [434.07785],\n",
       "       [543.2378 ],\n",
       "       [586.2591 ],\n",
       "       [579.50055],\n",
       "       [721.3172 ],\n",
       "       [432.8518 ],\n",
       "       [398.68036],\n",
       "       [314.01657],\n",
       "       [448.40848],\n",
       "       [388.1663 ],\n",
       "       [543.417  ],\n",
       "       [522.93115],\n",
       "       [564.7295 ],\n",
       "       [448.143  ],\n",
       "       [534.61835],\n",
       "       [381.8588 ],\n",
       "       [501.6938 ],\n",
       "       [637.40344],\n",
       "       [496.7281 ],\n",
       "       [568.62646],\n",
       "       [470.25635],\n",
       "       [273.28522],\n",
       "       [517.5523 ],\n",
       "       [621.686  ],\n",
       "       [350.55157],\n",
       "       [450.56985],\n",
       "       [499.4614 ],\n",
       "       [543.18854],\n",
       "       [612.10706],\n",
       "       [388.24374],\n",
       "       [449.5226 ],\n",
       "       [482.57404],\n",
       "       [598.57874],\n",
       "       [499.55023],\n",
       "       [321.46942],\n",
       "       [555.37054],\n",
       "       [444.7561 ],\n",
       "       [529.23444],\n",
       "       [515.4953 ],\n",
       "       [609.9196 ],\n",
       "       [417.05435],\n",
       "       [410.96008]], dtype=float32)"
      ]
     },
     "execution_count": 38,
     "metadata": {
      "tags": []
     },
     "output_type": "execute_result"
    }
   ],
   "source": [
    "test_pred"
   ]
  },
  {
   "cell_type": "code",
   "execution_count": 39,
   "metadata": {
    "colab": {},
    "colab_type": "code",
    "id": "DfdxtVLuzGHn"
   },
   "outputs": [],
   "source": [
    "test_pred = pd.Series(test_pred.reshape(300,))\n",
    "pred_df = pd.DataFrame(y_test, columns = ['Test_True_Y'])"
   ]
  },
  {
   "cell_type": "code",
   "execution_count": 40,
   "metadata": {
    "colab": {},
    "colab_type": "code",
    "id": "N4odZNCIzcvE"
   },
   "outputs": [],
   "source": [
    "pred_df = pd.concat([pred_df, test_pred], axis = 1)"
   ]
  },
  {
   "cell_type": "code",
   "execution_count": 41,
   "metadata": {
    "colab": {},
    "colab_type": "code",
    "id": "uLpDdKsszkUU"
   },
   "outputs": [],
   "source": [
    "pred_df.columns = ['Test_True_Y', 'Model Predictions']"
   ]
  },
  {
   "cell_type": "code",
   "execution_count": 46,
   "metadata": {
    "colab": {
     "base_uri": "https://localhost:8080/",
     "height": 297
    },
    "colab_type": "code",
    "id": "t02vgvXyzrMA",
    "outputId": "db5cf6a4-be3c-4dca-e261-4631dc88114d"
   },
   "outputs": [
    {
     "data": {
      "text/plain": [
       "<matplotlib.axes._subplots.AxesSubplot at 0x7f989c8a4208>"
      ]
     },
     "execution_count": 46,
     "metadata": {
      "tags": []
     },
     "output_type": "execute_result"
    },
    {
     "data": {
      "image/png": "[encoded data removed]",
      "text/plain": [
       "<Figure size 432x288 with 1 Axes>"
      ]
     },
     "metadata": {
      "needs_background": "light",
      "tags": []
     },
     "output_type": "display_data"
    }
   ],
   "source": [
    "sns.scatterplot(x = 'Test_True_Y', y = 'Model Predictions',data=pred_df, markers='x')"
   ]
  },
  {
   "cell_type": "code",
   "execution_count": 47,
   "metadata": {
    "colab": {},
    "colab_type": "code",
    "id": "HOJxOwVczz5E"
   },
   "outputs": [],
   "source": [
    "from sklearn.metrics import mean_absolute_error, mean_squared_error"
   ]
  },
  {
   "cell_type": "code",
   "execution_count": 48,
   "metadata": {
    "colab": {
     "base_uri": "https://localhost:8080/",
     "height": 34
    },
    "colab_type": "code",
    "id": "uuM74j870NsF",
    "outputId": "601e9393-dfa7-4e2a-c55a-7eb33af0135c"
   },
   "outputs": [
    {
     "data": {
      "text/plain": [
       "4.007814807589008"
      ]
     },
     "execution_count": 48,
     "metadata": {
      "tags": []
     },
     "output_type": "execute_result"
    }
   ],
   "source": [
    "mean_absolute_error(pred_df['Test_True_Y'], pred_df['Model Predictions'])"
   ]
  },
  {
   "cell_type": "code",
   "execution_count": 49,
   "metadata": {
    "colab": {
     "base_uri": "https://localhost:8080/",
     "height": 284
    },
    "colab_type": "code",
    "id": "flL-b7c70TOe",
    "outputId": "88d67e7f-837d-45da-a5c0-a64700f81b46"
   },
   "outputs": [
    {
     "data": {
      "text/html": [
       "<div>\n",
       "<style scoped>\n",
       "    .dataframe tbody tr th:only-of-type {\n",
       "        vertical-align: middle;\n",
       "    }\n",
       "\n",
       "    .dataframe tbody tr th {\n",
       "        vertical-align: top;\n",
       "    }\n",
       "\n",
       "    .dataframe thead th {\n",
       "        text-align: right;\n",
       "    }\n",
       "</style>\n",
       "<table border=\"1\" class=\"dataframe\">\n",
       "  <thead>\n",
       "    <tr style=\"text-align: right;\">\n",
       "      <th></th>\n",
       "      <th>price</th>\n",
       "      <th>feature1</th>\n",
       "      <th>feature2</th>\n",
       "    </tr>\n",
       "  </thead>\n",
       "  <tbody>\n",
       "    <tr>\n",
       "      <th>count</th>\n",
       "      <td>1000.000000</td>\n",
       "      <td>1000.000000</td>\n",
       "      <td>1000.000000</td>\n",
       "    </tr>\n",
       "    <tr>\n",
       "      <th>mean</th>\n",
       "      <td>498.673029</td>\n",
       "      <td>1000.014171</td>\n",
       "      <td>999.979847</td>\n",
       "    </tr>\n",
       "    <tr>\n",
       "      <th>std</th>\n",
       "      <td>93.785431</td>\n",
       "      <td>0.974018</td>\n",
       "      <td>0.948330</td>\n",
       "    </tr>\n",
       "    <tr>\n",
       "      <th>min</th>\n",
       "      <td>223.346793</td>\n",
       "      <td>997.058347</td>\n",
       "      <td>996.995651</td>\n",
       "    </tr>\n",
       "    <tr>\n",
       "      <th>25%</th>\n",
       "      <td>433.025732</td>\n",
       "      <td>999.332068</td>\n",
       "      <td>999.316106</td>\n",
       "    </tr>\n",
       "    <tr>\n",
       "      <th>50%</th>\n",
       "      <td>502.382117</td>\n",
       "      <td>1000.009915</td>\n",
       "      <td>1000.002243</td>\n",
       "    </tr>\n",
       "    <tr>\n",
       "      <th>75%</th>\n",
       "      <td>564.921588</td>\n",
       "      <td>1000.637580</td>\n",
       "      <td>1000.645380</td>\n",
       "    </tr>\n",
       "    <tr>\n",
       "      <th>max</th>\n",
       "      <td>774.407854</td>\n",
       "      <td>1003.207934</td>\n",
       "      <td>1002.666308</td>\n",
       "    </tr>\n",
       "  </tbody>\n",
       "</table>\n",
       "</div>"
      ],
      "text/plain": [
       "             price     feature1     feature2\n",
       "count  1000.000000  1000.000000  1000.000000\n",
       "mean    498.673029  1000.014171   999.979847\n",
       "std      93.785431     0.974018     0.948330\n",
       "min     223.346793   997.058347   996.995651\n",
       "25%     433.025732   999.332068   999.316106\n",
       "50%     502.382117  1000.009915  1000.002243\n",
       "75%     564.921588  1000.637580  1000.645380\n",
       "max     774.407854  1003.207934  1002.666308"
      ]
     },
     "execution_count": 49,
     "metadata": {
      "tags": []
     },
     "output_type": "execute_result"
    }
   ],
   "source": [
    "df.describe()"
   ]
  },
  {
   "cell_type": "code",
   "execution_count": 51,
   "metadata": {
    "colab": {
     "base_uri": "https://localhost:8080/",
     "height": 34
    },
    "colab_type": "code",
    "id": "Z3S-hf-r0VYs",
    "outputId": "e36ddece-60bb-469a-d0a8-cf106eed0f39"
   },
   "outputs": [
    {
     "data": {
      "text/plain": [
       "5.003234544254452"
      ]
     },
     "execution_count": 51,
     "metadata": {
      "tags": []
     },
     "output_type": "execute_result"
    }
   ],
   "source": [
    "mean_squared_error(pred_df['Test_True_Y'], pred_df['Model Predictions'])**0.5"
   ]
  },
  {
   "cell_type": "code",
   "execution_count": 52,
   "metadata": {
    "colab": {},
    "colab_type": "code",
    "id": "ronR-Mz_0mOO"
   },
   "outputs": [],
   "source": [
    "new_gem = [[998, 1000]]"
   ]
  },
  {
   "cell_type": "code",
   "execution_count": 56,
   "metadata": {
    "colab": {},
    "colab_type": "code",
    "id": "pWmU-IlJ03No"
   },
   "outputs": [],
   "source": [
    "new_gem = scaler.transform(new_gem)"
   ]
  },
  {
   "cell_type": "code",
   "execution_count": 57,
   "metadata": {
    "colab": {
     "base_uri": "https://localhost:8080/",
     "height": 34
    },
    "colab_type": "code",
    "id": "Gwvz7N9h09Kv",
    "outputId": "f790b60e-2749-4ad0-aedd-be10fc004a97"
   },
   "outputs": [
    {
     "data": {
      "text/plain": [
       "array([[419.7727]], dtype=float32)"
      ]
     },
     "execution_count": 57,
     "metadata": {
      "tags": []
     },
     "output_type": "execute_result"
    }
   ],
   "source": [
    "model.predict(new_gem)"
   ]
  },
  {
   "cell_type": "code",
   "execution_count": 58,
   "metadata": {
    "colab": {},
    "colab_type": "code",
    "id": "uxErN3Tp1BpS"
   },
   "outputs": [],
   "source": [
    "from tensorflow.keras.models import load_model"
   ]
  },
  {
   "cell_type": "code",
   "execution_count": 59,
   "metadata": {
    "colab": {},
    "colab_type": "code",
    "id": "mYcY2jNf1Uty"
   },
   "outputs": [],
   "source": [
    "model.save('my_gem_model.h5')"
   ]
  },
  {
   "cell_type": "code",
   "execution_count": 60,
   "metadata": {
    "colab": {},
    "colab_type": "code",
    "id": "ddVnT0aX1Yy9"
   },
   "outputs": [],
   "source": [
    "later_model = load_model('my_gem_model.h5')"
   ]
  },
  {
   "cell_type": "code",
   "execution_count": 61,
   "metadata": {
    "colab": {
     "base_uri": "https://localhost:8080/",
     "height": 34
    },
    "colab_type": "code",
    "id": "_SjeE0LW1e6C",
    "outputId": "138ccaf5-3aa5-4ea9-9004-384cc80d0f50"
   },
   "outputs": [
    {
     "data": {
      "text/plain": [
       "array([[419.7727]], dtype=float32)"
      ]
     },
     "execution_count": 61,
     "metadata": {
      "tags": []
     },
     "output_type": "execute_result"
    }
   ],
   "source": [
    "later_model.predict(new_gem)"
   ]
  },
  {
   "cell_type": "code",
   "execution_count": null,
   "metadata": {
    "colab": {},
    "colab_type": "code",
    "id": "gHyL3XFP1h0x"
   },
   "outputs": [],
   "source": []
  }
 ],
 "metadata": {
  "colab": {
   "name": "TF Examples",
   "provenance": []
  },
  "kernelspec": {
   "display_name": "Python 3",
   "language": "python",
   "name": "python3"
  },
  "language_info": {
   "codemirror_mode": {
    "name": "ipython",
    "version": 3
   },
   "file_extension": ".py",
   "mimetype": "text/x-python",
   "name": "python",
   "nbconvert_exporter": "python",
   "pygments_lexer": "ipython3",
   "version": "3.7.4"
  }
 },
 "nbformat": 4,
 "nbformat_minor": 1
}
